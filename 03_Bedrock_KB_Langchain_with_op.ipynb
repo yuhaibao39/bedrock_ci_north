{
 "cells": [
  {
   "cell_type": "markdown",
   "metadata": {},
   "source": [
    "# Building Q&A application using Knowledge Bases for Amazon Bedrock - Retrieve API and Langchain"
   ]
  },
  {
   "cell_type": "markdown",
   "metadata": {},
   "source": [
    "### Context\n",
    "\n",
    "With a knowledge base, you can securely connect foundation models (FMs) in Amazon Bedrock to your company\n",
    "data for Retrieval Augmented Generation (RAG). Access to additional data helps the model generate more relevant,\n",
    "context-speciﬁc, and accurate responses without continuously retraining the FM. All information retrieved from\n",
    "knowledge bases comes with source attribution to improve transparency and minimize hallucinations. For more information on creating a knowledge base using console, please refer to this [post](!https://docs.aws.amazon.com/bedrock/latest/userguide/knowledge-base.html).\n",
    "\n",
    "In this notebook, we will dive deep into building Q&A application using Retrieve API provided by Knowledge Bases for Amazon Bedrock and LangChain. We will query the knowledge base to get the desired number of document chunks based on similarity search, integrate it with LangChain retriever and use Anthropic Claude instant model for answering questions.\n",
    "\n",
    "\n",
    "### Pattern\n",
    "\n",
    "We can implement the solution using Retreival Augmented Generation (RAG) pattern. RAG retrieves data from outside the language model (non-parametric) and augments the prompts by adding the relevant retrieved data in context. Here, we are performing RAG effectively on the knowledge base created in the previous notebook or using console. \n",
    "\n",
    "### Pre-requisite\n",
    "\n",
    "Before being able to answer the questions, the documents must be processed and stored in knowledge base.\n",
    "\n",
    "1. Load the documents into the knowledge base by connecting your s3 bucket (data source). \n",
    "2. Ingestion - Knowledge base will split them into smaller chunks (based on the strategy selected), generate embeddings and store it in the associated vectore store.\n",
    "\n",
    "![data_ingestion.png](./images/data_ingestion.png)\n",
    "\n",
    "\n",
    "#### Notebook Walkthrough\n",
    "\n",
    "For our notebook we will use the `Retreive API` provided by Knowledge Bases for Amazon Bedrock which converts user queries into\n",
    "embeddings, searches the knowledge base, and returns the relevant results, giving you more control to build custom\n",
    "workﬂows on top of the semantic search results. The output of the `Retrieve API` includes the `retrieved text chunks`, the `location type` and `URI` of the source data, as well as the relevance `scores` of the retrievals. \n",
    "\n",
    "\n",
    "We will then use the `RetrievalQAChain` provided by LangChain, add `RetreiverAPI` as a `retriever` in the chain. This chain will then automatically augment the text chunks being generated with the original prompt and pass it through the `anthropic.claude-instant-v1` model.\n",
    "\n",
    "\n",
    "### Ask question\n",
    "We will use the following workflow for this notebook. \n",
    "\n",
    "![retrieve.png](./images/retrieveAPI.png)\n",
    "\n",
    "\n",
    "### USE CASE:\n",
    "\n",
    "#### Dataset\n",
    "\n",
    "In this example, you will use several years of Amazon's Letter to Shareholders as a text corpus to perform Q&A on. This data is already ingested into the Kknowledge Bases for Amazon Bedrock. You will need the `knowledge base id` to run this example.\n",
    "\n",
    "### Python 3.10\n",
    "\n",
    "⚠  For this lab we need to run the notebook based on a Python 3.10 runtime. ⚠\n",
    "\n",
    "### Setup\n",
    "\n",
    "To run this notebook you would need to install dependencies, and LangChain and update boto3, botocore for accessing the newly released Query API provided by Knowledge Bases for Amazon Bedrock.\n"
   ]
  },
  {
   "cell_type": "code",
   "execution_count": 1,
   "metadata": {
    "tags": []
   },
   "outputs": [
    {
     "data": {
      "text/html": [
       "<script>Jupyter.notebook.kernel.restart()</script>"
      ],
      "text/plain": [
       "<IPython.core.display.HTML object>"
      ]
     },
     "execution_count": 1,
     "metadata": {},
     "output_type": "execute_result"
    }
   ],
   "source": [
    "# restart kernel\n",
    "from IPython.core.display import HTML\n",
    "HTML(\"<script>Jupyter.notebook.kernel.restart()</script>\")"
   ]
  },
  {
   "cell_type": "markdown",
   "metadata": {},
   "source": [
    "### Follow the steps below to set up necessary packages\n",
    "\n",
    "1. Import the necessary libraries for creating `bedrock-runtime` for invoking foundation models and `bedrock-agent-runtime` client for using Retrieve API provided by Knowledge Bases for Amazon Bedrock. \n",
    "2. Import Langchain for: \n",
    "   1. Initializing bedrock model  `anthropic.claude-v2` as our large language model to perform query completions using the RAG pattern. \n",
    "   2. Initialize Langchain retriever integrated with knowledge bases. \n",
    "   3. Later in the notebook we will wrap the LLM and retriever with `RetrieverQAChain` for building our Q&A application."
   ]
  },
  {
   "cell_type": "code",
   "execution_count": 2,
   "metadata": {
    "tags": []
   },
   "outputs": [],
   "source": [
    "import boto3\n",
    "import pprint\n",
    "from botocore.client import Config\n",
    "from langchain.llms.bedrock import Bedrock\n",
    "from langchain.retrievers.bedrock import AmazonKnowledgeBasesRetriever\n",
    "\n",
    "pp = pprint.PrettyPrinter(indent=2)\n",
    "\n",
    "kb_id = \"U4DWFE7LSJ\" # replace it with your Knowledge base id.\n",
    "\n",
    "bedrock_config = Config(connect_timeout=120, read_timeout=120, retries={'max_attempts': 0})\n",
    "bedrock_client = boto3.client('bedrock-runtime')\n",
    "bedrock_agent_client = boto3.client(\"bedrock-agent-runtime\",\n",
    "                              config=bedrock_config\n",
    "                              )\n",
    "\n",
    "model_kwargs_claude = {\n",
    "    \"temperature\": 0,\n",
    "    \"top_k\": 10,\n",
    "    \"max_tokens_to_sample\": 3000\n",
    "}\n",
    "\n",
    "llm = Bedrock(model_id=\"anthropic.claude-v2\",\n",
    "              model_kwargs=model_kwargs_claude,\n",
    "              client = bedrock_client,)"
   ]
  },
  {
   "cell_type": "markdown",
   "metadata": {},
   "source": [
    "### Retrieve API: Process flow \n",
    "\n",
    "Create a `AmazonKnowledgeBasesRetriever` object from LangChain which will call the `Retreive API` provided by Knowledge Bases for Amazon Bedrock which converts user queries into\n",
    "embeddings, searches the knowledge base, and returns the relevant results, giving you more control to build custom\n",
    "workﬂows on top of the semantic search results. The output of the `Retrieve API` includes the the `retrieved text chunks`, the `location type` and `URI` of the source data, as well as the relevance `scores` of the retrievals. "
   ]
  },
  {
   "cell_type": "code",
   "execution_count": 3,
   "metadata": {
    "tags": []
   },
   "outputs": [
    {
     "name": "stdout",
     "output_type": "stream",
     "text": [
      "[ Document(page_content='成立日期：2010 年 11 月 5 日    法定代表人：黄敏    注册资本：12,320 万元    总股本：12,320 万股    股票上市交易所：上海证券交易所    股票简称：固德威    股票代码：688390    统一社会信用代码：91320500564313408C    注册地址：江苏省苏州市高新区紫金路 90 号    通讯地址：江苏省苏州市高新区紫金路 90 号    电话号码：0512-62397978-8213    传真号码：0512-62397972    互联网网址：www.GoodWe.com    经营范围：研发、生产、销售：风能、光伏逆变器系统；软件研发、光伏系统的集   成和安装；智能家居、智能电网等电子产品、低压成套开关设备、充电桩；销售：电子   电路元件、金属制品、半导体照明器件、显示器件、包装材料、绝缘制品、塑料制品、   变压器、整流器和电感器、其他输配电及控制设备、光伏设备元器件；自营和代理各类   商品及技术的进出口业务（国家限定企业经营或禁止进出口的商品和技术除外）。（依   法须经批准的项目，经相关部门批准后方可开展经营活动）一般项目：技术服务、技术   开发、技术咨询、技术交流、技术转让、技术推广；电池销售（除依法须经批准的项目   外，凭营业执照依法自主开展经营活动）。', metadata={'location': {'type': 'S3', 's3Location': {'uri': 's3://anbeialb/file_905a5662-cc85-44e2-b965-62b938f2d7a7.pdf'}}, 'score': 0.8138172}),\n",
      "  Document(page_content='固德威技术股份有限公司                                              募集说明书（申报稿）    1-1-9    （二）股权结构、控股股东及实际控制人情况    1、前十名股东情况    截至报告期末，发行人前十大股东持股情况如下：    序号 股东名称 持股总数（股） 持股比例（%）    1 黄敏 38,150,000 30.97%    2 卢红萍 8,122,188 6.59%    3 香港中央结算有限公司 5,526,577 4.49%    4 郑加炫 4,483,658 3.64%    5 合众聚德 4,312,000 3.50%    6 方刚 3,248,000 2.64%    7 倪祖根 3,052,932 2.48%    8 高新富德 2,682,400 2.18%    9 卢进军 2,079,000 1.69%    10  招商银行股份有限公司－华夏上证科创板 50 成份交易   型开放式指数证券投资基金  1,437,695 1.17%    合计 73,094,450 59.35%        2、控股股东及实际控制人情况    截至本募集说明书签署日，发行人总股本为 12,320 万股。黄敏直接持有发行人 30.97%   的股份，并通过苏州合众聚德投资企业（有限合伙）间接控制发行人 3.50%的股份，故   黄敏通过直接和间接方式合计控制发行人 34.47%的股份，为发行人的控股股东、实际   控制人。    发行人控股股东及实际控制人简历如下：    黄敏先生，1973 年 7 月出生，研究生学历。2001 年 9 月至今，历任苏州华雅涂装   技术有限公司执行董事兼总经理、执行董事；2005 年 3 月至今，历任苏州华彩建筑工   程有限公司执行董事兼总经理、监事；2010 年 11 月创办固德威，任董事长兼总经理；   黄敏先生为公司创始人，自公司设立以来一直担任董事长、总经理，全面主持公司的战   略决策和经营管理工作；黄敏先生曾入选科技部 2017 年科技创新创业人才。2018 年，   获中共江苏省委组织部等四部门颁发的“江苏省科技企业家”证书。', metadata={'location': {'type': 'S3', 's3Location': {'uri': 's3://anbeialb/file_905a5662-cc85-44e2-b965-62b938f2d7a7.pdf'}}, 'score': 0.80395764}),\n",
      "  Document(page_content='董事长、法定代表人：__________________          沈如军            保荐代表人：        __________________       __________________    葛其明                   谢望钦              项目协办人：        __________________     吕煜乾            中国国际金融股份有限公司    年     月     日              固德威技术股份有限公司                                              募集说明书（申报稿）    1-1-77    保荐机构（主承销商）董事长声明        本人已认真阅读固德威技术股份有限公司向特定对象发行 A 股股票募集说明书的   全部内容，确认募集说明书不存在虚假记载、误导性陈述或重大遗漏，并对募集说明书   真实性、准确性、完整性、及时性承担相应的法律责任。            董事长、法定代表人：__________________          沈如军                   中国国际金融股份有限公司    年   月   日                      固德威技术股份有限公司                                              募集说明书（申报稿）    1-1-78    保荐机构（主承销商）首席执行官声明        本人已认真阅读固德威技术股份有限公司向特定对象发行 A 股股票募集说明书的   全部内容，确认募集说明书不存在虚假记载、误导性陈述或重大遗漏，并对募集说明书   真实性、准确性、完整性、及时性承担相应的法律责任。', metadata={'location': {'type': 'S3', 's3Location': {'uri': 's3://anbeialb/file_905a5662-cc85-44e2-b965-62b938f2d7a7.pdf'}}, 'score': 0.7943374}),\n",
      "  Document(page_content='首席执行官：__________________        黄朝晖                   中国国际金融股份有限公司    年   月   日                     固德威技术股份有限公司                                              募集说明书（申报稿）    1-1-79    （四）发行人律师声明    本所及经办律师已阅读募集说明书，确认募集说明书内容与本所出具的法律意见书   不存在矛盾。本所及经办律师对发行人在募集说明书中引用的法律意见书的内容无异议，   确认募集说明书不因引用上述内容而出现虚假记载、误导性陈述或重大遗漏，并承担相   应的法律责任。        经办律师：    ________________               ________________    翟晓津                         朱道琴            律师事务所负责人：    ________________              朱小辉                北京市天元律师事务所（盖章）        年     月     日                 固德威技术股份有限公司                                              募集说明书（申报稿）    1-1-80    （五）会计师事务所声明    本所及签字注册会计师已阅读募集说明书，确认募集说明书内容与本所出具的审计   报告等文件不存在矛盾。本所及签字注册会计师对发行人在募集说明书中引用的审计报   告等文件的内容无异议，确认募集说明书不因引用上述内容而出现虚假记载、误导性陈   述或重大遗漏，并承担相应的法律责任。', metadata={'location': {'type': 'S3', 's3Location': {'uri': 's3://anbeialb/file_905a5662-cc85-44e2-b965-62b938f2d7a7.pdf'}}, 'score': 0.7918707})]\n"
     ]
    }
   ],
   "source": [
    "\n",
    "retriever = AmazonKnowledgeBasesRetriever(\n",
    "        knowledge_base_id=kb_id,\n",
    "        retrieval_config={\"vectorSearchConfiguration\": {\"numberOfResults\": 4}},\n",
    "        # endpoint_url=endpoint_url,\n",
    "        # region_name=\"us-east-1\",\n",
    "        # credentials_profile_name=\"<profile_name>\",\n",
    "    )\n",
    "docs = retriever.get_relevant_documents(\n",
    "        query=\"固德威法人代表是谁?\"\n",
    "    )\n",
    "pp.pprint(docs)"
   ]
  },
  {
   "cell_type": "markdown",
   "metadata": {},
   "source": [
    "`score`: You can view the associated score of each of the text chunk that was returned which depicts its correlation to the query in terms of how closely it matches it."
   ]
  },
  {
   "cell_type": "markdown",
   "metadata": {},
   "source": [
    "### Prompt specific to the model to personalize responses \n",
    "\n",
    "Here, we will use the specific prompt below for the model to act as a financial advisor AI system that will provide answers to questions by using fact based and statistical information when possible. We will provide the `Retrieve API` responses from above as a part of the `{context}` in the prompt for the model to refer to, along with the user `query`.  "
   ]
  },
  {
   "cell_type": "code",
   "execution_count": 4,
   "metadata": {
    "tags": []
   },
   "outputs": [],
   "source": [
    "from langchain.prompts import PromptTemplate\n",
    "\n",
    "PROMPT_TEMPLATE = \"\"\"\n",
    "    Human: You are a financial advisor AI system, and provides answers to questions by using fact based and statistical information when possible. \n",
    "    Use the following pieces of information to provide a concise answer to the question enclosed in <question> tags. \n",
    "    If you don't know the answer, just say that you don't know, don't try to make up an answer.\n",
    "    <context>\n",
    "    {context}\n",
    "    </context>\n",
    "\n",
    "    <question>\n",
    "    {question}\n",
    "    </question>\n",
    "\n",
    "    The response should be specific and use statistics or numbers when possible.\n",
    "\n",
    "    Assistant:\"\"\"\n",
    "claude_prompt = PromptTemplate(template=PROMPT_TEMPLATE, \n",
    "                                input_variables=[\"context\",\"question\"])"
   ]
  },
  {
   "cell_type": "code",
   "execution_count": 5,
   "metadata": {
    "tags": []
   },
   "outputs": [],
   "source": [
    "# fetch context from the response\n",
    "def get_contexts(docs):\n",
    "    contexts = []\n",
    "    for retrievedResult in docs: \n",
    "        contexts.append(retrievedResult.page_content)\n",
    "    return contexts"
   ]
  },
  {
   "cell_type": "code",
   "execution_count": 6,
   "metadata": {
    "tags": []
   },
   "outputs": [
    {
     "name": "stdout",
     "output_type": "stream",
     "text": [
      "[ '成立日期：2010 年 11 月 5 日    法定代表人：黄敏    注册资本：12,320 万元    总股本：12,320 万股    '\n",
      "  '股票上市交易所：上海证券交易所    股票简称：固德威    股票代码：688390    '\n",
      "  '统一社会信用代码：91320500564313408C    注册地址：江苏省苏州市高新区紫金路 90 号    通讯地址：江苏省苏州市高新区紫金路 '\n",
      "  '90 号    电话号码：0512-62397978-8213    传真号码：0512-62397972    '\n",
      "  '互联网网址：www.GoodWe.com    经营范围：研发、生产、销售：风能、光伏逆变器系统；软件研发、光伏系统的集   '\n",
      "  '成和安装；智能家居、智能电网等电子产品、低压成套开关设备、充电桩；销售：电子   '\n",
      "  '电路元件、金属制品、半导体照明器件、显示器件、包装材料、绝缘制品、塑料制品、   '\n",
      "  '变压器、整流器和电感器、其他输配电及控制设备、光伏设备元器件；自营和代理各类   '\n",
      "  '商品及技术的进出口业务（国家限定企业经营或禁止进出口的商品和技术除外）。（依   '\n",
      "  '法须经批准的项目，经相关部门批准后方可开展经营活动）一般项目：技术服务、技术   '\n",
      "  '开发、技术咨询、技术交流、技术转让、技术推广；电池销售（除依法须经批准的项目   外，凭营业执照依法自主开展经营活动）。',\n",
      "  '固德威技术股份有限公司                                              募集说明书（申报稿）    '\n",
      "  '1-1-9    （二）股权结构、控股股东及实际控制人情况    1、前十名股东情况    截至报告期末，发行人前十大股东持股情况如下：    序号 '\n",
      "  '股东名称 持股总数（股） 持股比例（%）    1 黄敏 38,150,000 30.97%    2 卢红萍 8,122,188 6.59%    '\n",
      "  '3 香港中央结算有限公司 5,526,577 4.49%    4 郑加炫 4,483,658 3.64%    5 合众聚德 4,312,000 '\n",
      "  '3.50%    6 方刚 3,248,000 2.64%    7 倪祖根 3,052,932 2.48%    8 高新富德 2,682,400 '\n",
      "  '2.18%    9 卢进军 2,079,000 1.69%    10  招商银行股份有限公司－华夏上证科创板 50 成份交易   '\n",
      "  '型开放式指数证券投资基金  1,437,695 1.17%    合计 73,094,450 59.35%        '\n",
      "  '2、控股股东及实际控制人情况    截至本募集说明书签署日，发行人总股本为 12,320 万股。黄敏直接持有发行人 30.97%   '\n",
      "  '的股份，并通过苏州合众聚德投资企业（有限合伙）间接控制发行人 3.50%的股份，故   黄敏通过直接和间接方式合计控制发行人 '\n",
      "  '34.47%的股份，为发行人的控股股东、实际   控制人。    发行人控股股东及实际控制人简历如下：    黄敏先生，1973 年 7 '\n",
      "  '月出生，研究生学历。2001 年 9 月至今，历任苏州华雅涂装   技术有限公司执行董事兼总经理、执行董事；2005 年 3 '\n",
      "  '月至今，历任苏州华彩建筑工   程有限公司执行董事兼总经理、监事；2010 年 11 月创办固德威，任董事长兼总经理；   '\n",
      "  '黄敏先生为公司创始人，自公司设立以来一直担任董事长、总经理，全面主持公司的战   略决策和经营管理工作；黄敏先生曾入选科技部 2017 '\n",
      "  '年科技创新创业人才。2018 年，   获中共江苏省委组织部等四部门颁发的“江苏省科技企业家”证书。',\n",
      "  '董事长、法定代表人：__________________          沈如军            保荐代表人：        '\n",
      "  '__________________       __________________    葛其明                   '\n",
      "  '谢望钦              项目协办人：        __________________     吕煜乾            '\n",
      "  '中国国际金融股份有限公司    年     月     日              '\n",
      "  '固德威技术股份有限公司                                              募集说明书（申报稿）    '\n",
      "  '1-1-77    保荐机构（主承销商）董事长声明        本人已认真阅读固德威技术股份有限公司向特定对象发行 A 股股票募集说明书的   '\n",
      "  '全部内容，确认募集说明书不存在虚假记载、误导性陈述或重大遗漏，并对募集说明书   '\n",
      "  '真实性、准确性、完整性、及时性承担相应的法律责任。            董事长、法定代表人：__________________          '\n",
      "  '沈如军                   中国国际金融股份有限公司    年   月   日                      '\n",
      "  '固德威技术股份有限公司                                              募集说明书（申报稿）    '\n",
      "  '1-1-78    保荐机构（主承销商）首席执行官声明        本人已认真阅读固德威技术股份有限公司向特定对象发行 A 股股票募集说明书的   '\n",
      "  '全部内容，确认募集说明书不存在虚假记载、误导性陈述或重大遗漏，并对募集说明书   真实性、准确性、完整性、及时性承担相应的法律责任。',\n",
      "  '首席执行官：__________________        黄朝晖                   中国国际金融股份有限公司    年   '\n",
      "  '月   日                     '\n",
      "  '固德威技术股份有限公司                                              募集说明书（申报稿）    '\n",
      "  '1-1-79    （四）发行人律师声明    本所及经办律师已阅读募集说明书，确认募集说明书内容与本所出具的法律意见书   '\n",
      "  '不存在矛盾。本所及经办律师对发行人在募集说明书中引用的法律意见书的内容无异议，   '\n",
      "  '确认募集说明书不因引用上述内容而出现虚假记载、误导性陈述或重大遗漏，并承担相   应的法律责任。        经办律师：    '\n",
      "  '________________               ________________    '\n",
      "  '翟晓津                         朱道琴            律师事务所负责人：    '\n",
      "  '________________              朱小辉                北京市天元律师事务所（盖章）        '\n",
      "  '年     月     日                 '\n",
      "  '固德威技术股份有限公司                                              募集说明书（申报稿）    '\n",
      "  '1-1-80    （五）会计师事务所声明    本所及签字注册会计师已阅读募集说明书，确认募集说明书内容与本所出具的审计   '\n",
      "  '报告等文件不存在矛盾。本所及签字注册会计师对发行人在募集说明书中引用的审计报   '\n",
      "  '告等文件的内容无异议，确认募集说明书不因引用上述内容而出现虚假记载、误导性陈   述或重大遗漏，并承担相应的法律责任。']\n"
     ]
    }
   ],
   "source": [
    "contexts = get_contexts(docs)\n",
    "pp.pprint(contexts)"
   ]
  },
  {
   "cell_type": "markdown",
   "metadata": {},
   "source": [
    "### Initiate the user prompt and response via the LLM\n",
    "\n",
    "Here, we are going to format our prompt using the context generated by the retrieve API as well as the user query to get the final response."
   ]
  },
  {
   "cell_type": "code",
   "execution_count": 7,
   "metadata": {
    "tags": []
   },
   "outputs": [],
   "source": [
    "query = \"固德威法人代表是谁?\"\n",
    "prompt = claude_prompt.format(context=contexts, \n",
    "                                 question=query)"
   ]
  },
  {
   "cell_type": "code",
   "execution_count": 8,
   "metadata": {
    "tags": []
   },
   "outputs": [
    {
     "name": "stdout",
     "output_type": "stream",
     "text": [
      "(' <question>\\n'\n",
      " '固德威法人代表是谁?\\n'\n",
      " '</question>\\n'\n",
      " '\\n'\n",
      " '根据提供的上下文信息,固德威的法定代表人是黄敏。具体来说,在上下文信息中的“固德威技术股份有限公司募集说明书(申报稿)”中提到:“法定代表人:黄敏”。所以固德威的法人代表是黄敏。')\n"
     ]
    }
   ],
   "source": [
    "response = llm(prompt)\n",
    "pp.pprint(response)"
   ]
  },
  {
   "cell_type": "markdown",
   "metadata": {},
   "source": [
    "## Integrating the retriever and the LLM defined above with `RetrievalQA` Chain to build the Q&A application."
   ]
  },
  {
   "cell_type": "code",
   "execution_count": 9,
   "metadata": {
    "tags": []
   },
   "outputs": [],
   "source": [
    "from langchain.chains import RetrievalQA\n",
    "qa = RetrievalQA.from_chain_type(\n",
    "                                    llm=llm,\n",
    "                                    chain_type=\"stuff\",\n",
    "                                    retriever=retriever,\n",
    "                                    return_source_documents=True,\n",
    "                                    chain_type_kwargs={\"prompt\": claude_prompt}\n",
    "                                )"
   ]
  },
  {
   "cell_type": "code",
   "execution_count": 10,
   "metadata": {
    "tags": []
   },
   "outputs": [
    {
     "name": "stdout",
     "output_type": "stream",
     "text": [
      " <question>\n",
      "固德威法人代表是谁?\n",
      "</question>\n",
      "\n",
      "根据上下文中的信息,固德威技术股份有限公司的法定代表人是黄敏。\n"
     ]
    }
   ],
   "source": [
    "answer = qa(query)\n",
    "print(answer['result'])"
   ]
  },
  {
   "cell_type": "code",
   "execution_count": null,
   "metadata": {},
   "outputs": [],
   "source": []
  }
 ],
 "metadata": {
  "availableInstances": [
   {
    "_defaultOrder": 0,
    "_isFastLaunch": true,
    "category": "General purpose",
    "gpuNum": 0,
    "hideHardwareSpecs": false,
    "memoryGiB": 4,
    "name": "ml.t3.medium",
    "vcpuNum": 2
   },
   {
    "_defaultOrder": 1,
    "_isFastLaunch": false,
    "category": "General purpose",
    "gpuNum": 0,
    "hideHardwareSpecs": false,
    "memoryGiB": 8,
    "name": "ml.t3.large",
    "vcpuNum": 2
   },
   {
    "_defaultOrder": 2,
    "_isFastLaunch": false,
    "category": "General purpose",
    "gpuNum": 0,
    "hideHardwareSpecs": false,
    "memoryGiB": 16,
    "name": "ml.t3.xlarge",
    "vcpuNum": 4
   },
   {
    "_defaultOrder": 3,
    "_isFastLaunch": false,
    "category": "General purpose",
    "gpuNum": 0,
    "hideHardwareSpecs": false,
    "memoryGiB": 32,
    "name": "ml.t3.2xlarge",
    "vcpuNum": 8
   },
   {
    "_defaultOrder": 4,
    "_isFastLaunch": true,
    "category": "General purpose",
    "gpuNum": 0,
    "hideHardwareSpecs": false,
    "memoryGiB": 8,
    "name": "ml.m5.large",
    "vcpuNum": 2
   },
   {
    "_defaultOrder": 5,
    "_isFastLaunch": false,
    "category": "General purpose",
    "gpuNum": 0,
    "hideHardwareSpecs": false,
    "memoryGiB": 16,
    "name": "ml.m5.xlarge",
    "vcpuNum": 4
   },
   {
    "_defaultOrder": 6,
    "_isFastLaunch": false,
    "category": "General purpose",
    "gpuNum": 0,
    "hideHardwareSpecs": false,
    "memoryGiB": 32,
    "name": "ml.m5.2xlarge",
    "vcpuNum": 8
   },
   {
    "_defaultOrder": 7,
    "_isFastLaunch": false,
    "category": "General purpose",
    "gpuNum": 0,
    "hideHardwareSpecs": false,
    "memoryGiB": 64,
    "name": "ml.m5.4xlarge",
    "vcpuNum": 16
   },
   {
    "_defaultOrder": 8,
    "_isFastLaunch": false,
    "category": "General purpose",
    "gpuNum": 0,
    "hideHardwareSpecs": false,
    "memoryGiB": 128,
    "name": "ml.m5.8xlarge",
    "vcpuNum": 32
   },
   {
    "_defaultOrder": 9,
    "_isFastLaunch": false,
    "category": "General purpose",
    "gpuNum": 0,
    "hideHardwareSpecs": false,
    "memoryGiB": 192,
    "name": "ml.m5.12xlarge",
    "vcpuNum": 48
   },
   {
    "_defaultOrder": 10,
    "_isFastLaunch": false,
    "category": "General purpose",
    "gpuNum": 0,
    "hideHardwareSpecs": false,
    "memoryGiB": 256,
    "name": "ml.m5.16xlarge",
    "vcpuNum": 64
   },
   {
    "_defaultOrder": 11,
    "_isFastLaunch": false,
    "category": "General purpose",
    "gpuNum": 0,
    "hideHardwareSpecs": false,
    "memoryGiB": 384,
    "name": "ml.m5.24xlarge",
    "vcpuNum": 96
   },
   {
    "_defaultOrder": 12,
    "_isFastLaunch": false,
    "category": "General purpose",
    "gpuNum": 0,
    "hideHardwareSpecs": false,
    "memoryGiB": 8,
    "name": "ml.m5d.large",
    "vcpuNum": 2
   },
   {
    "_defaultOrder": 13,
    "_isFastLaunch": false,
    "category": "General purpose",
    "gpuNum": 0,
    "hideHardwareSpecs": false,
    "memoryGiB": 16,
    "name": "ml.m5d.xlarge",
    "vcpuNum": 4
   },
   {
    "_defaultOrder": 14,
    "_isFastLaunch": false,
    "category": "General purpose",
    "gpuNum": 0,
    "hideHardwareSpecs": false,
    "memoryGiB": 32,
    "name": "ml.m5d.2xlarge",
    "vcpuNum": 8
   },
   {
    "_defaultOrder": 15,
    "_isFastLaunch": false,
    "category": "General purpose",
    "gpuNum": 0,
    "hideHardwareSpecs": false,
    "memoryGiB": 64,
    "name": "ml.m5d.4xlarge",
    "vcpuNum": 16
   },
   {
    "_defaultOrder": 16,
    "_isFastLaunch": false,
    "category": "General purpose",
    "gpuNum": 0,
    "hideHardwareSpecs": false,
    "memoryGiB": 128,
    "name": "ml.m5d.8xlarge",
    "vcpuNum": 32
   },
   {
    "_defaultOrder": 17,
    "_isFastLaunch": false,
    "category": "General purpose",
    "gpuNum": 0,
    "hideHardwareSpecs": false,
    "memoryGiB": 192,
    "name": "ml.m5d.12xlarge",
    "vcpuNum": 48
   },
   {
    "_defaultOrder": 18,
    "_isFastLaunch": false,
    "category": "General purpose",
    "gpuNum": 0,
    "hideHardwareSpecs": false,
    "memoryGiB": 256,
    "name": "ml.m5d.16xlarge",
    "vcpuNum": 64
   },
   {
    "_defaultOrder": 19,
    "_isFastLaunch": false,
    "category": "General purpose",
    "gpuNum": 0,
    "hideHardwareSpecs": false,
    "memoryGiB": 384,
    "name": "ml.m5d.24xlarge",
    "vcpuNum": 96
   },
   {
    "_defaultOrder": 20,
    "_isFastLaunch": false,
    "category": "General purpose",
    "gpuNum": 0,
    "hideHardwareSpecs": true,
    "memoryGiB": 0,
    "name": "ml.geospatial.interactive",
    "supportedImageNames": [
     "sagemaker-geospatial-v1-0"
    ],
    "vcpuNum": 0
   },
   {
    "_defaultOrder": 21,
    "_isFastLaunch": true,
    "category": "Compute optimized",
    "gpuNum": 0,
    "hideHardwareSpecs": false,
    "memoryGiB": 4,
    "name": "ml.c5.large",
    "vcpuNum": 2
   },
   {
    "_defaultOrder": 22,
    "_isFastLaunch": false,
    "category": "Compute optimized",
    "gpuNum": 0,
    "hideHardwareSpecs": false,
    "memoryGiB": 8,
    "name": "ml.c5.xlarge",
    "vcpuNum": 4
   },
   {
    "_defaultOrder": 23,
    "_isFastLaunch": false,
    "category": "Compute optimized",
    "gpuNum": 0,
    "hideHardwareSpecs": false,
    "memoryGiB": 16,
    "name": "ml.c5.2xlarge",
    "vcpuNum": 8
   },
   {
    "_defaultOrder": 24,
    "_isFastLaunch": false,
    "category": "Compute optimized",
    "gpuNum": 0,
    "hideHardwareSpecs": false,
    "memoryGiB": 32,
    "name": "ml.c5.4xlarge",
    "vcpuNum": 16
   },
   {
    "_defaultOrder": 25,
    "_isFastLaunch": false,
    "category": "Compute optimized",
    "gpuNum": 0,
    "hideHardwareSpecs": false,
    "memoryGiB": 72,
    "name": "ml.c5.9xlarge",
    "vcpuNum": 36
   },
   {
    "_defaultOrder": 26,
    "_isFastLaunch": false,
    "category": "Compute optimized",
    "gpuNum": 0,
    "hideHardwareSpecs": false,
    "memoryGiB": 96,
    "name": "ml.c5.12xlarge",
    "vcpuNum": 48
   },
   {
    "_defaultOrder": 27,
    "_isFastLaunch": false,
    "category": "Compute optimized",
    "gpuNum": 0,
    "hideHardwareSpecs": false,
    "memoryGiB": 144,
    "name": "ml.c5.18xlarge",
    "vcpuNum": 72
   },
   {
    "_defaultOrder": 28,
    "_isFastLaunch": false,
    "category": "Compute optimized",
    "gpuNum": 0,
    "hideHardwareSpecs": false,
    "memoryGiB": 192,
    "name": "ml.c5.24xlarge",
    "vcpuNum": 96
   },
   {
    "_defaultOrder": 29,
    "_isFastLaunch": true,
    "category": "Accelerated computing",
    "gpuNum": 1,
    "hideHardwareSpecs": false,
    "memoryGiB": 16,
    "name": "ml.g4dn.xlarge",
    "vcpuNum": 4
   },
   {
    "_defaultOrder": 30,
    "_isFastLaunch": false,
    "category": "Accelerated computing",
    "gpuNum": 1,
    "hideHardwareSpecs": false,
    "memoryGiB": 32,
    "name": "ml.g4dn.2xlarge",
    "vcpuNum": 8
   },
   {
    "_defaultOrder": 31,
    "_isFastLaunch": false,
    "category": "Accelerated computing",
    "gpuNum": 1,
    "hideHardwareSpecs": false,
    "memoryGiB": 64,
    "name": "ml.g4dn.4xlarge",
    "vcpuNum": 16
   },
   {
    "_defaultOrder": 32,
    "_isFastLaunch": false,
    "category": "Accelerated computing",
    "gpuNum": 1,
    "hideHardwareSpecs": false,
    "memoryGiB": 128,
    "name": "ml.g4dn.8xlarge",
    "vcpuNum": 32
   },
   {
    "_defaultOrder": 33,
    "_isFastLaunch": false,
    "category": "Accelerated computing",
    "gpuNum": 4,
    "hideHardwareSpecs": false,
    "memoryGiB": 192,
    "name": "ml.g4dn.12xlarge",
    "vcpuNum": 48
   },
   {
    "_defaultOrder": 34,
    "_isFastLaunch": false,
    "category": "Accelerated computing",
    "gpuNum": 1,
    "hideHardwareSpecs": false,
    "memoryGiB": 256,
    "name": "ml.g4dn.16xlarge",
    "vcpuNum": 64
   },
   {
    "_defaultOrder": 35,
    "_isFastLaunch": false,
    "category": "Accelerated computing",
    "gpuNum": 1,
    "hideHardwareSpecs": false,
    "memoryGiB": 61,
    "name": "ml.p3.2xlarge",
    "vcpuNum": 8
   },
   {
    "_defaultOrder": 36,
    "_isFastLaunch": false,
    "category": "Accelerated computing",
    "gpuNum": 4,
    "hideHardwareSpecs": false,
    "memoryGiB": 244,
    "name": "ml.p3.8xlarge",
    "vcpuNum": 32
   },
   {
    "_defaultOrder": 37,
    "_isFastLaunch": false,
    "category": "Accelerated computing",
    "gpuNum": 8,
    "hideHardwareSpecs": false,
    "memoryGiB": 488,
    "name": "ml.p3.16xlarge",
    "vcpuNum": 64
   },
   {
    "_defaultOrder": 38,
    "_isFastLaunch": false,
    "category": "Accelerated computing",
    "gpuNum": 8,
    "hideHardwareSpecs": false,
    "memoryGiB": 768,
    "name": "ml.p3dn.24xlarge",
    "vcpuNum": 96
   },
   {
    "_defaultOrder": 39,
    "_isFastLaunch": false,
    "category": "Memory Optimized",
    "gpuNum": 0,
    "hideHardwareSpecs": false,
    "memoryGiB": 16,
    "name": "ml.r5.large",
    "vcpuNum": 2
   },
   {
    "_defaultOrder": 40,
    "_isFastLaunch": false,
    "category": "Memory Optimized",
    "gpuNum": 0,
    "hideHardwareSpecs": false,
    "memoryGiB": 32,
    "name": "ml.r5.xlarge",
    "vcpuNum": 4
   },
   {
    "_defaultOrder": 41,
    "_isFastLaunch": false,
    "category": "Memory Optimized",
    "gpuNum": 0,
    "hideHardwareSpecs": false,
    "memoryGiB": 64,
    "name": "ml.r5.2xlarge",
    "vcpuNum": 8
   },
   {
    "_defaultOrder": 42,
    "_isFastLaunch": false,
    "category": "Memory Optimized",
    "gpuNum": 0,
    "hideHardwareSpecs": false,
    "memoryGiB": 128,
    "name": "ml.r5.4xlarge",
    "vcpuNum": 16
   },
   {
    "_defaultOrder": 43,
    "_isFastLaunch": false,
    "category": "Memory Optimized",
    "gpuNum": 0,
    "hideHardwareSpecs": false,
    "memoryGiB": 256,
    "name": "ml.r5.8xlarge",
    "vcpuNum": 32
   },
   {
    "_defaultOrder": 44,
    "_isFastLaunch": false,
    "category": "Memory Optimized",
    "gpuNum": 0,
    "hideHardwareSpecs": false,
    "memoryGiB": 384,
    "name": "ml.r5.12xlarge",
    "vcpuNum": 48
   },
   {
    "_defaultOrder": 45,
    "_isFastLaunch": false,
    "category": "Memory Optimized",
    "gpuNum": 0,
    "hideHardwareSpecs": false,
    "memoryGiB": 512,
    "name": "ml.r5.16xlarge",
    "vcpuNum": 64
   },
   {
    "_defaultOrder": 46,
    "_isFastLaunch": false,
    "category": "Memory Optimized",
    "gpuNum": 0,
    "hideHardwareSpecs": false,
    "memoryGiB": 768,
    "name": "ml.r5.24xlarge",
    "vcpuNum": 96
   },
   {
    "_defaultOrder": 47,
    "_isFastLaunch": false,
    "category": "Accelerated computing",
    "gpuNum": 1,
    "hideHardwareSpecs": false,
    "memoryGiB": 16,
    "name": "ml.g5.xlarge",
    "vcpuNum": 4
   },
   {
    "_defaultOrder": 48,
    "_isFastLaunch": false,
    "category": "Accelerated computing",
    "gpuNum": 1,
    "hideHardwareSpecs": false,
    "memoryGiB": 32,
    "name": "ml.g5.2xlarge",
    "vcpuNum": 8
   },
   {
    "_defaultOrder": 49,
    "_isFastLaunch": false,
    "category": "Accelerated computing",
    "gpuNum": 1,
    "hideHardwareSpecs": false,
    "memoryGiB": 64,
    "name": "ml.g5.4xlarge",
    "vcpuNum": 16
   },
   {
    "_defaultOrder": 50,
    "_isFastLaunch": false,
    "category": "Accelerated computing",
    "gpuNum": 1,
    "hideHardwareSpecs": false,
    "memoryGiB": 128,
    "name": "ml.g5.8xlarge",
    "vcpuNum": 32
   },
   {
    "_defaultOrder": 51,
    "_isFastLaunch": false,
    "category": "Accelerated computing",
    "gpuNum": 1,
    "hideHardwareSpecs": false,
    "memoryGiB": 256,
    "name": "ml.g5.16xlarge",
    "vcpuNum": 64
   },
   {
    "_defaultOrder": 52,
    "_isFastLaunch": false,
    "category": "Accelerated computing",
    "gpuNum": 4,
    "hideHardwareSpecs": false,
    "memoryGiB": 192,
    "name": "ml.g5.12xlarge",
    "vcpuNum": 48
   },
   {
    "_defaultOrder": 53,
    "_isFastLaunch": false,
    "category": "Accelerated computing",
    "gpuNum": 4,
    "hideHardwareSpecs": false,
    "memoryGiB": 384,
    "name": "ml.g5.24xlarge",
    "vcpuNum": 96
   },
   {
    "_defaultOrder": 54,
    "_isFastLaunch": false,
    "category": "Accelerated computing",
    "gpuNum": 8,
    "hideHardwareSpecs": false,
    "memoryGiB": 768,
    "name": "ml.g5.48xlarge",
    "vcpuNum": 192
   },
   {
    "_defaultOrder": 55,
    "_isFastLaunch": false,
    "category": "Accelerated computing",
    "gpuNum": 8,
    "hideHardwareSpecs": false,
    "memoryGiB": 1152,
    "name": "ml.p4d.24xlarge",
    "vcpuNum": 96
   },
   {
    "_defaultOrder": 56,
    "_isFastLaunch": false,
    "category": "Accelerated computing",
    "gpuNum": 8,
    "hideHardwareSpecs": false,
    "memoryGiB": 1152,
    "name": "ml.p4de.24xlarge",
    "vcpuNum": 96
   },
   {
    "_defaultOrder": 57,
    "_isFastLaunch": false,
    "category": "Accelerated computing",
    "gpuNum": 0,
    "hideHardwareSpecs": false,
    "memoryGiB": 32,
    "name": "ml.trn1.2xlarge",
    "vcpuNum": 8
   },
   {
    "_defaultOrder": 58,
    "_isFastLaunch": false,
    "category": "Accelerated computing",
    "gpuNum": 0,
    "hideHardwareSpecs": false,
    "memoryGiB": 512,
    "name": "ml.trn1.32xlarge",
    "vcpuNum": 128
   },
   {
    "_defaultOrder": 59,
    "_isFastLaunch": false,
    "category": "Accelerated computing",
    "gpuNum": 0,
    "hideHardwareSpecs": false,
    "memoryGiB": 512,
    "name": "ml.trn1n.32xlarge",
    "vcpuNum": 128
   }
  ],
  "instance_type": "ml.t3.medium",
  "kernelspec": {
   "display_name": "conda_pytorch_p310",
   "language": "python",
   "name": "conda_pytorch_p310"
  },
  "language_info": {
   "codemirror_mode": {
    "name": "ipython",
    "version": 3
   },
   "file_extension": ".py",
   "mimetype": "text/x-python",
   "name": "python",
   "nbconvert_exporter": "python",
   "pygments_lexer": "ipython3",
   "version": "3.10.13"
  }
 },
 "nbformat": 4,
 "nbformat_minor": 4
}
