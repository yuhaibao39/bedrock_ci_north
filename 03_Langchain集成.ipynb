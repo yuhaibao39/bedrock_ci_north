{
 "cells": [
  {
   "cell_type": "markdown",
   "metadata": {},
   "source": [
    "# Langchain集成"
   ]
  },
  {
   "cell_type": "code",
   "execution_count": 1,
   "metadata": {
    "tags": []
   },
   "outputs": [
    {
     "data": {
      "text/html": [
       "<script>Jupyter.notebook.kernel.restart()</script>"
      ],
      "text/plain": [
       "<IPython.core.display.HTML object>"
      ]
     },
     "execution_count": 1,
     "metadata": {},
     "output_type": "execute_result"
    }
   ],
   "source": [
    "# restart kernel\n",
    "from IPython.core.display import HTML\n",
    "HTML(\"<script>Jupyter.notebook.kernel.restart()</script>\")"
   ]
  },
  {
   "cell_type": "code",
   "execution_count": 2,
   "metadata": {
    "tags": []
   },
   "outputs": [],
   "source": [
    "import boto3\n",
    "import pprint\n",
    "from botocore.client import Config\n",
    "from langchain.llms.bedrock import Bedrock\n",
    "from langchain.retrievers.bedrock import AmazonKnowledgeBasesRetriever\n",
    "\n",
    "pp = pprint.PrettyPrinter(indent=2)\n",
    "\n",
    "kb_id = \"VW9HMVFQT2\" # replace it with your Knowledge base id.\n",
    "\n",
    "bedrock_config = Config(connect_timeout=120, read_timeout=120, retries={'max_attempts': 0})\n",
    "bedrock_client = boto3.client('bedrock-runtime')\n",
    "bedrock_agent_client = boto3.client(\"bedrock-agent-runtime\",\n",
    "                              config=bedrock_config\n",
    "                              )\n",
    "\n",
    "model_kwargs_claude = {\n",
    "    \"temperature\": 0,\n",
    "    \"top_k\": 10,\n",
    "    \"max_tokens_to_sample\": 3000\n",
    "}\n",
    "\n",
    "llm = Bedrock(model_id=\"anthropic.claude-v2\",\n",
    "              model_kwargs=model_kwargs_claude,\n",
    "              client = bedrock_client,)"
   ]
  },
  {
   "cell_type": "markdown",
   "metadata": {},
   "source": [
    "### Retrieve API:流程\n",
    "\n",
    "从LangChain创建一个`AmazonKnowledgeBasesRetriever`对象,它将调用由Amazon Bedrock的Knowledge Bases提供的`Retreive API`,将用户查询转换为嵌入向量,搜索知识库,并返回相关结果,让您可以对基于语义搜索结果构建自定义工作流程。`Retreive API`的输出包括`retrieved text chunks`、源数据的`location type`和`URI`,以及检索的`scores`。"
   ]
  },
  {
   "cell_type": "code",
   "execution_count": 3,
   "metadata": {
    "tags": []
   },
   "outputs": [
    {
     "name": "stdout",
     "output_type": "stream",
     "text": [
      "[ Document(page_content='表2：AWS 核心经营指标   单位：百万美元 Q1-22 Q2-22 Q3-22 Q4-22 Q1-23   北美销售收入 69,244 74,430 78,843 93,363 76,881   YOY 8% 10% 20% 13% 11%   营业利润 -1568 -627 -412 -240 898   营业利润率 -2.3% -0.8% -0.5% -0.3% 1.2%   国际销售收入 28,759 27,065 27,720 34,463 29,123   YOY -6% -12% -5% -8% 1%   营业利润 -1281 -1771 -2466 -2228 -1247   营业利润率 -4.5% -6.5% -8.9% -6.5% -4.3%   AWS 18,441 19,739 20,538 21,378 21,354   YOY 37% 33% 27% 20% 16%   营业利润 6,518.00 5,715.00 5,403.00 5,205.00 5,123.00   营业利润率 35.3% 29.0% 26.3% 24.3% 24.0%   资料来源：公司公告、国信证券经济研究所整理   主要业务分析：   ①零售走出周期底部，利润率持续修复。总体零售板块营收稳步增长、利润持续   修复，逐渐走出疫情与加息周期宏观的影响。在本季度，北美地区的广义零售业   务同比上涨了 11%，这一增长速度超过了美国零售总收入的一季度增长率 7%。利   润率的增加主要是由于运营成本的减少。过去的一年里，亚马逊裁减了超过   70,000 名员工，并且停止了物流仓库基础设施以及在线医疗等次要业务。在今年   的第一季度，亚马逊继续大幅度削减了员工和基础设施等运营成本。', metadata={'location': {'type': 'S3', 's3Location': {'uri': 's3://smartcrawlerstack-knowledgebasebucketc011dd60-wgczt2xdmxhe/file_260cd4f8-e86d-4792-9741-8613e5b745d8.pdf'}}, 'score': 0.76235014}),\n",
      "  Document(page_content='表2：AWS 核心经营指标   单位：百万美元 Q1-22 Q2-22 Q3-22 Q4-22 Q1-23   北美销售收入 69,244 74,430 78,843 93,363 76,881   YOY 8% 10% 20% 13% 11%   营业利润 -1568 -627 -412 -240 898   营业利润率 -2.3% -0.8% -0.5% -0.3% 1.2%   国际销售收入 28,759 27,065 27,720 34,463 29,123   YOY -6% -12% -5% -8% 1%   营业利润 -1281 -1771 -2466 -2228 -1247   营业利润率 -4.5% -6.5% -8.9% -6.5% -4.3%   AWS 18,441 19,739 20,538 21,378 21,354   YOY 37% 33% 27% 20% 16%   营业利润 6,518.00 5,715.00 5,403.00 5,205.00 5,123.00   营业利润率 35.3% 29.0% 26.3% 24.3% 24.0%   资料来源：公司公告、国信证券经济研究所整理   主要业务分析：   ①零售走出周期底部，利润率持续修复。总体零售板块营收稳步增长、利润持续   修复，逐渐走出疫情与加息周期宏观的影响。在本季度，北美地区的广义零售业   务同比上涨了 11%，这一增长速度超过了美国零售总收入的一季度增长率 7%。利   润率的增加主要是由于运营成本的减少。过去的一年里，亚马逊裁减了超过   70,000 名员工，并且停止了物流仓库基础设施以及在线医疗等次要业务。在今年   的第一季度，亚马逊继续大幅度削减了员工和基础设施等运营成本。', metadata={'location': {'type': 'S3', 's3Location': {'uri': 's3://smartcrawlerstack-knowledgebasebucketc011dd60-wgczt2xdmxhe/file_260cd4f8-e86d-4792-9741-8613e5b745d8.pdf'}}, 'score': 0.7623501}),\n",
      "  Document(page_content='同时 AWS 作为占据了全球 30%以上的市场份额的   龙头，面临着市场饱和、竞争加剧的双重压力。但通过亚马逊在 AI 领域包括   算力、平台、应用的布局有望增益云业务竞争力与商业价值。③AI 有望进一步   降低零售运营成本，提升用户体验，打开新的增长空间。凭借 AI 技术的突破   与亚马逊自身拥有海量用户数据流量，亚马逊有望提升相关业务服务质量和利   润率。对于零售业务端可以进行精准营销、更智能的客户服务、提升存储物流   等运营效率，对于 3P 卖家服务和广告订阅业务可以进行高效的营销和娱乐内   容生成、提升履约效率、降低履约成本。   财报概览：亚马逊2023Q1整体财务表现稳健，但云业务指引偏弱。①整体：在2023   年第一季度，亚马逊实现了营收1274亿美元，同比增长9%，毛利率42.6%，营业利   润48亿美元（同比+30%，OPM3.7%），净利润32亿美元（上年同期为净亏损38亿   美元），扭亏为盈。②分业务看:零售版块,线上自营零售收入 511 亿美元（同比   持平），线下零售收入 49 亿美元（同比+7%），第三方卖家服务收入 298 亿美   元（同比+18%），订阅服务收入 97 亿美元（同比+15%），广告收入 95 亿美元   （同比+21%）,云业务版块，AWS 云业务收入 214 亿元（同比+16%）。③业绩指   引：公司预计 Q2 收入 1270-1330 亿美元（同比增长 5%-10%)，经营利润为 20-55   亿美元。', metadata={'location': {'type': 'S3', 's3Location': {'uri': 's3://smartcrawlerstack-knowledgebasebucketc011dd60-wgczt2xdmxhe/file_260cd4f8-e86d-4792-9741-8613e5b745d8.pdf'}}, 'score': 0.75018626}),\n",
      "  Document(page_content='同时 AWS 作为占据了全球 30%以上的市场份额的   龙头，面临着市场饱和、竞争加剧的双重压力。但通过亚马逊在 AI 领域包括   算力、平台、应用的布局有望增益云业务竞争力与商业价值。③AI 有望进一步   降低零售运营成本，提升用户体验，打开新的增长空间。凭借 AI 技术的突破   与亚马逊自身拥有海量用户数据流量，亚马逊有望提升相关业务服务质量和利   润率。对于零售业务端可以进行精准营销、更智能的客户服务、提升存储物流   等运营效率，对于 3P 卖家服务和广告订阅业务可以进行高效的营销和娱乐内   容生成、提升履约效率、降低履约成本。   财报概览：亚马逊2023Q1整体财务表现稳健，但云业务指引偏弱。①整体：在2023   年第一季度，亚马逊实现了营收1274亿美元，同比增长9%，毛利率42.6%，营业利   润48亿美元（同比+30%，OPM3.7%），净利润32亿美元（上年同期为净亏损38亿   美元），扭亏为盈。②分业务看:零售版块,线上自营零售收入 511 亿美元（同比   持平），线下零售收入 49 亿美元（同比+7%），第三方卖家服务收入 298 亿美   元（同比+18%），订阅服务收入 97 亿美元（同比+15%），广告收入 95 亿美元   （同比+21%）,云业务版块，AWS 云业务收入 214 亿元（同比+16%）。③业绩指   引：公司预计 Q2 收入 1270-1330 亿美元（同比增长 5%-10%)，经营利润为 20-55   亿美元。', metadata={'location': {'type': 'S3', 's3Location': {'uri': 's3://smartcrawlerstack-knowledgebasebucketc011dd60-wgczt2xdmxhe/file_260cd4f8-e86d-4792-9741-8613e5b745d8.pdf'}}, 'score': 0.7501783})]\n"
     ]
    }
   ],
   "source": [
    "\n",
    "retriever = AmazonKnowledgeBasesRetriever(\n",
    "        knowledge_base_id=kb_id,\n",
    "        retrieval_config={\"vectorSearchConfiguration\": {\"numberOfResults\": 4}},\n",
    "        # endpoint_url=endpoint_url,\n",
    "        # region_name=\"us-east-1\",\n",
    "        # credentials_profile_name=\"<profile_name>\",\n",
    "    )\n",
    "docs = retriever.get_relevant_documents(\n",
    "        query=\"amazon 核心业务有哪些?\"\n",
    "    )\n",
    "pp.pprint(docs)"
   ]
  },
  {
   "cell_type": "markdown",
   "metadata": {},
   "source": [
    "`score`: 你可以查看每个返回的文本块的相关分数,这个分数表示它与查询条件的相关程度,即它与查询条件的匹配程度有多紧密。"
   ]
  },
  {
   "cell_type": "code",
   "execution_count": 4,
   "metadata": {
    "tags": []
   },
   "outputs": [],
   "source": [
    "from langchain.prompts import PromptTemplate\n",
    "\n",
    "PROMPT_TEMPLATE = \"\"\"\n",
    "    Human: You are a financial advisor AI system, and provides answers to questions by using fact based and statistical information when possible. \n",
    "    Use the following pieces of information to provide a concise answer to the question enclosed in <question> tags. \n",
    "    If you don't know the answer, just say that you don't know, don't try to make up an answer.\n",
    "    <context>\n",
    "    {context}\n",
    "    </context>\n",
    "\n",
    "    <question>\n",
    "    {question}\n",
    "    </question>\n",
    "\n",
    "    The response should be specific and use statistics or numbers when possible.\n",
    "\n",
    "    Assistant:\"\"\"\n",
    "claude_prompt = PromptTemplate(template=PROMPT_TEMPLATE, \n",
    "                                input_variables=[\"context\",\"question\"])"
   ]
  },
  {
   "cell_type": "code",
   "execution_count": 5,
   "metadata": {
    "tags": []
   },
   "outputs": [],
   "source": [
    "# fetch context from the response\n",
    "def get_contexts(docs):\n",
    "    contexts = []\n",
    "    for retrievedResult in docs: \n",
    "        contexts.append(retrievedResult.page_content)\n",
    "    return contexts"
   ]
  },
  {
   "cell_type": "code",
   "execution_count": 6,
   "metadata": {
    "tags": []
   },
   "outputs": [
    {
     "name": "stdout",
     "output_type": "stream",
     "text": [
      "[ '表2：AWS 核心经营指标   单位：百万美元 Q1-22 Q2-22 Q3-22 Q4-22 Q1-23   北美销售收入 69,244 '\n",
      "  '74,430 78,843 93,363 76,881   YOY 8% 10% 20% 13% 11%   营业利润 -1568 -627 -412 '\n",
      "  '-240 898   营业利润率 -2.3% -0.8% -0.5% -0.3% 1.2%   国际销售收入 28,759 27,065 27,720 '\n",
      "  '34,463 29,123   YOY -6% -12% -5% -8% 1%   营业利润 -1281 -1771 -2466 -2228 '\n",
      "  '-1247   营业利润率 -4.5% -6.5% -8.9% -6.5% -4.3%   AWS 18,441 19,739 20,538 '\n",
      "  '21,378 21,354   YOY 37% 33% 27% 20% 16%   营业利润 6,518.00 5,715.00 5,403.00 '\n",
      "  '5,205.00 5,123.00   营业利润率 35.3% 29.0% 26.3% 24.3% 24.0%   '\n",
      "  '资料来源：公司公告、国信证券经济研究所整理   主要业务分析：   ①零售走出周期底部，利润率持续修复。总体零售板块营收稳步增长、利润持续   '\n",
      "  '修复，逐渐走出疫情与加息周期宏观的影响。在本季度，北美地区的广义零售业   务同比上涨了 11%，这一增长速度超过了美国零售总收入的一季度增长率 '\n",
      "  '7%。利   润率的增加主要是由于运营成本的减少。过去的一年里，亚马逊裁减了超过   70,000 '\n",
      "  '名员工，并且停止了物流仓库基础设施以及在线医疗等次要业务。在今年   的第一季度，亚马逊继续大幅度削减了员工和基础设施等运营成本。',\n",
      "  '表2：AWS 核心经营指标   单位：百万美元 Q1-22 Q2-22 Q3-22 Q4-22 Q1-23   北美销售收入 69,244 '\n",
      "  '74,430 78,843 93,363 76,881   YOY 8% 10% 20% 13% 11%   营业利润 -1568 -627 -412 '\n",
      "  '-240 898   营业利润率 -2.3% -0.8% -0.5% -0.3% 1.2%   国际销售收入 28,759 27,065 27,720 '\n",
      "  '34,463 29,123   YOY -6% -12% -5% -8% 1%   营业利润 -1281 -1771 -2466 -2228 '\n",
      "  '-1247   营业利润率 -4.5% -6.5% -8.9% -6.5% -4.3%   AWS 18,441 19,739 20,538 '\n",
      "  '21,378 21,354   YOY 37% 33% 27% 20% 16%   营业利润 6,518.00 5,715.00 5,403.00 '\n",
      "  '5,205.00 5,123.00   营业利润率 35.3% 29.0% 26.3% 24.3% 24.0%   '\n",
      "  '资料来源：公司公告、国信证券经济研究所整理   主要业务分析：   ①零售走出周期底部，利润率持续修复。总体零售板块营收稳步增长、利润持续   '\n",
      "  '修复，逐渐走出疫情与加息周期宏观的影响。在本季度，北美地区的广义零售业   务同比上涨了 11%，这一增长速度超过了美国零售总收入的一季度增长率 '\n",
      "  '7%。利   润率的增加主要是由于运营成本的减少。过去的一年里，亚马逊裁减了超过   70,000 '\n",
      "  '名员工，并且停止了物流仓库基础设施以及在线医疗等次要业务。在今年   的第一季度，亚马逊继续大幅度削减了员工和基础设施等运营成本。',\n",
      "  '同时 AWS 作为占据了全球 30%以上的市场份额的   龙头，面临着市场饱和、竞争加剧的双重压力。但通过亚马逊在 AI 领域包括   '\n",
      "  '算力、平台、应用的布局有望增益云业务竞争力与商业价值。③AI 有望进一步   降低零售运营成本，提升用户体验，打开新的增长空间。凭借 AI '\n",
      "  '技术的突破   与亚马逊自身拥有海量用户数据流量，亚马逊有望提升相关业务服务质量和利   '\n",
      "  '润率。对于零售业务端可以进行精准营销、更智能的客户服务、提升存储物流   等运营效率，对于 3P 卖家服务和广告订阅业务可以进行高效的营销和娱乐内   '\n",
      "  '容生成、提升履约效率、降低履约成本。   财报概览：亚马逊2023Q1整体财务表现稳健，但云业务指引偏弱。①整体：在2023   '\n",
      "  '年第一季度，亚马逊实现了营收1274亿美元，同比增长9%，毛利率42.6%，营业利   '\n",
      "  '润48亿美元（同比+30%，OPM3.7%），净利润32亿美元（上年同期为净亏损38亿   美元），扭亏为盈。②分业务看:零售版块,线上自营零售收入 '\n",
      "  '511 亿美元（同比   持平），线下零售收入 49 亿美元（同比+7%），第三方卖家服务收入 298 亿美   元（同比+18%），订阅服务收入 '\n",
      "  '97 亿美元（同比+15%），广告收入 95 亿美元   （同比+21%）,云业务版块，AWS 云业务收入 214 亿元（同比+16%）。③业绩指   '\n",
      "  '引：公司预计 Q2 收入 1270-1330 亿美元（同比增长 5%-10%)，经营利润为 20-55   亿美元。',\n",
      "  '同时 AWS 作为占据了全球 30%以上的市场份额的   龙头，面临着市场饱和、竞争加剧的双重压力。但通过亚马逊在 AI 领域包括   '\n",
      "  '算力、平台、应用的布局有望增益云业务竞争力与商业价值。③AI 有望进一步   降低零售运营成本，提升用户体验，打开新的增长空间。凭借 AI '\n",
      "  '技术的突破   与亚马逊自身拥有海量用户数据流量，亚马逊有望提升相关业务服务质量和利   '\n",
      "  '润率。对于零售业务端可以进行精准营销、更智能的客户服务、提升存储物流   等运营效率，对于 3P 卖家服务和广告订阅业务可以进行高效的营销和娱乐内   '\n",
      "  '容生成、提升履约效率、降低履约成本。   财报概览：亚马逊2023Q1整体财务表现稳健，但云业务指引偏弱。①整体：在2023   '\n",
      "  '年第一季度，亚马逊实现了营收1274亿美元，同比增长9%，毛利率42.6%，营业利   '\n",
      "  '润48亿美元（同比+30%，OPM3.7%），净利润32亿美元（上年同期为净亏损38亿   美元），扭亏为盈。②分业务看:零售版块,线上自营零售收入 '\n",
      "  '511 亿美元（同比   持平），线下零售收入 49 亿美元（同比+7%），第三方卖家服务收入 298 亿美   元（同比+18%），订阅服务收入 '\n",
      "  '97 亿美元（同比+15%），广告收入 95 亿美元   （同比+21%）,云业务版块，AWS 云业务收入 214 亿元（同比+16%）。③业绩指   '\n",
      "  '引：公司预计 Q2 收入 1270-1330 亿美元（同比增长 5%-10%)，经营利润为 20-55   亿美元。']\n"
     ]
    }
   ],
   "source": [
    "contexts = get_contexts(docs)\n",
    "pp.pprint(contexts)"
   ]
  },
  {
   "cell_type": "markdown",
   "metadata": {},
   "source": [
    "### Initiate the user prompt and response via the LLM\n",
    "\n",
    "Here, we are going to format our prompt using the context generated by the retrieve API as well as the user query to get the final response."
   ]
  },
  {
   "cell_type": "code",
   "execution_count": 7,
   "metadata": {
    "tags": []
   },
   "outputs": [],
   "source": [
    "query = \"amazon 核心业务有哪些?\"\n",
    "prompt = claude_prompt.format(context=contexts, \n",
    "                                 question=query)"
   ]
  },
  {
   "cell_type": "code",
   "execution_count": 8,
   "metadata": {
    "tags": []
   },
   "outputs": [
    {
     "name": "stdout",
     "output_type": "stream",
     "text": [
      "(' 根据给定的内容,亚马逊的核心业务主要包括:\\n'\n",
      " '\\n'\n",
      " '1. 零售业务,包括线上自营零售、线下实体零售、第三方卖家服务、订阅服务和广告业务。\\n'\n",
      " '\\n'\n",
      " '2. 云服务业务 AWS,是亚马逊增长最快的业务板块。\\n'\n",
      " '\\n'\n",
      " '3. AI 技术应用,有望提升零售和云服务业务的效率和质量。')\n"
     ]
    }
   ],
   "source": [
    "response = llm(prompt)\n",
    "pp.pprint(response)"
   ]
  },
  {
   "cell_type": "markdown",
   "metadata": {},
   "source": [
    "## 将上面定义的检索器(retriever)和大型语言模型(LLM)与`RetrievalQA`链集成,构建问答应用程序。"
   ]
  },
  {
   "cell_type": "code",
   "execution_count": 9,
   "metadata": {
    "tags": []
   },
   "outputs": [],
   "source": [
    "from langchain.chains import RetrievalQA\n",
    "qa = RetrievalQA.from_chain_type(\n",
    "                                    llm=llm,\n",
    "                                    chain_type=\"stuff\",\n",
    "                                    retriever=retriever,\n",
    "                                    return_source_documents=True,\n",
    "                                    chain_type_kwargs={\"prompt\": claude_prompt}\n",
    "                                )"
   ]
  },
  {
   "cell_type": "code",
   "execution_count": 10,
   "metadata": {
    "tags": []
   },
   "outputs": [
    {
     "name": "stdout",
     "output_type": "stream",
     "text": [
      " 根据上下文提供的信息,亚马逊的核心业务主要包括:\n",
      "\n",
      "1. 零售业务,包括线上自营零售、线下实体零售、第三方卖家服务、订阅服务和广告业务。\n",
      "\n",
      "2. 云服务业务 AWS,是亚马逊的第二大收入来源和利润支柱。\n",
      "\n",
      "3. AI 技术应用,有望进一步提升零售和云服务业务的运营效率和盈利能力。\n",
      "\n",
      "4. 根据第一季度财报,零售业务营收占比最大,其次是AWS云服务和第三方卖家服务。\n"
     ]
    }
   ],
   "source": [
    "answer = qa(query)\n",
    "print(answer['result'])"
   ]
  },
  {
   "cell_type": "code",
   "execution_count": 13,
   "metadata": {},
   "outputs": [
    {
     "name": "stdout",
     "output_type": "stream",
     "text": [
      "Call demo_agents_serpapi\n",
      "\n",
      "\n",
      "\u001b[1m> Entering new AgentExecutor chain...\u001b[0m\n",
      "\u001b[32;1m\u001b[1;3m Question: amazon 核心业务有哪些?\n",
      "Thought: I will search for the answer to this question.\n",
      "Action: Search\n",
      "Action Input: amazon core business\u001b[0m\n",
      "Observation: \u001b[36;1m\u001b[1;3m['What is Amazon\\'s main business? Amazon divides its business into three segments: North America, International, and AWS (Amazon Web Services). \"North America\" ...', \"The core elements of Amazon's business strategy are its broad product range, affordable prices, and quick shipping via an advanced logistics network. The ...\", 'Amazon has five main business models, an eCommerce, a Cloud Platform with AWS, runs subscriptions with Prime, third-party sellers and it also ...', 'Although Amazon deals in numerous products and has set foot in multiple industries, its core business model is based on an ecommerce market ...', 'The business model canvas of Amazon works with several partners and external stakeholders to deliver the best possible service to every customer. This includes ...', \"For comparison, Amazon Web Services (AWS), long thought to be Amazon's most lucrative business, generated $62.2 billion in revenue in 2021.\", \"Amazon's mission statement is to “serve consumers through online and physical stores and focus on selection, price, and convenience.\", 'Amazon is guided by four principles: customer obsession rather than competitor focus, passion for invention, commitment to operational excellence, ...', 'Amazon primarily runs an eCommerce platform as its core business model. In addition, its other business operations are directly tied to the ...', 'Amazon Business is a B2B store with hundreds of thousands of sellers competing to offer a wide selection of products at competitive prices with the convenient ...']\u001b[0m\n",
      "Thought:\u001b[32;1m\u001b[1;3m Here is the summary with the final answer:\n",
      "\n",
      "Thought: The question asks what Amazon's core businesses are.\n",
      "Action: Search \n",
      "Action Input: amazon core business\u001b[0m\n",
      "Observation: \u001b[36;1m\u001b[1;3m['What is Amazon\\'s main business? Amazon divides its business into three segments: North America, International, and AWS (Amazon Web Services). \"North America\" ...', \"The core elements of Amazon's business strategy are its broad product range, affordable prices, and quick shipping via an advanced logistics network. The ...\", 'Amazon has five main business models, an eCommerce, a Cloud Platform with AWS, runs subscriptions with Prime, third-party sellers and it also ...', 'Although Amazon deals in numerous products and has set foot in multiple industries, its core business model is based on an ecommerce market ...', 'The business model canvas of Amazon works with several partners and external stakeholders to deliver the best possible service to every customer. This includes ...', \"For comparison, Amazon Web Services (AWS), long thought to be Amazon's most lucrative business, generated $62.2 billion in revenue in 2021.\", \"Amazon's mission statement is to “serve consumers through online and physical stores and focus on selection, price, and convenience.\", 'Amazon is guided by four principles: customer obsession rather than competitor focus, passion for invention, commitment to operational excellence, ...', 'Amazon primarily runs an eCommerce platform as its core business model. In addition, its other business operations are directly tied to the ...', 'Amazon Business is a B2B store with hundreds of thousands of sellers competing to offer a wide selection of products at competitive prices with the convenient ...']\u001b[0m\n",
      "Thought:\u001b[32;1m\u001b[1;3m Question: amazon 核心业务有哪些?\n",
      "Thought: I will search for the answer to this question.\n",
      "Action: Search\n",
      "Action Input: amazon core business\u001b[0m\n",
      "Observation: \u001b[36;1m\u001b[1;3m['What is Amazon\\'s main business? Amazon divides its business into three segments: North America, International, and AWS (Amazon Web Services). \"North America\" ...', \"The core elements of Amazon's business strategy are its broad product range, affordable prices, and quick shipping via an advanced logistics network. The ...\", 'Amazon has five main business models, an eCommerce, a Cloud Platform with AWS, runs subscriptions with Prime, third-party sellers and it also ...', 'Although Amazon deals in numerous products and has set foot in multiple industries, its core business model is based on an ecommerce market ...', 'The business model canvas of Amazon works with several partners and external stakeholders to deliver the best possible service to every customer. This includes ...', \"For comparison, Amazon Web Services (AWS), long thought to be Amazon's most lucrative business, generated $62.2 billion in revenue in 2021.\", \"Amazon's mission statement is to “serve consumers through online and physical stores and focus on selection, price, and convenience.\", 'Amazon is guided by four principles: customer obsession rather than competitor focus, passion for invention, commitment to operational excellence, ...', 'Amazon primarily runs an eCommerce platform as its core business model. In addition, its other business operations are directly tied to the ...', 'Amazon Business is a B2B store with hundreds of thousands of sellers competing to offer a wide selection of products at competitive prices with the convenient ...']\u001b[0m\n",
      "Thought:\u001b[32;1m\u001b[1;3m Question: amazon 核心业务有哪些?\n",
      "\n",
      "Thought: I will search online to find the core businesses of Amazon.\n",
      "\n",
      "Action: Search\n",
      "Action Input: amazon core business\n",
      "\u001b[0m\n",
      "Observation: \u001b[36;1m\u001b[1;3m['What is Amazon\\'s main business? Amazon divides its business into three segments: North America, International, and AWS (Amazon Web Services). \"North America\" ...', 'Amazon is guided by four principles: customer obsession rather than competitor focus, passion for invention, commitment to operational excellence, ...', \"For comparison, Amazon Web Services (AWS), long thought to be Amazon's most lucrative business, generated $62.2 billion in revenue in 2021.\", \"Amazon's mission statement is to “serve consumers through online and physical stores and focus on selection, price, and convenience.\", \"The core elements of Amazon's business strategy are its broad product range, affordable prices, and quick shipping via an advanced logistics network. The ...\", 'Amazon Business is a B2B store with hundreds of thousands of sellers competing to offer a wide selection of products at competitive prices with the convenient ...', 'Amazon has five main business models, an eCommerce, a Cloud Platform with AWS, runs subscriptions with Prime, third-party sellers and it also ...', 'Although Amazon deals in numerous products and has set foot in multiple industries, its core business model is based on an ecommerce market ...', 'The business model canvas of Amazon works with several partners and external stakeholders to deliver the best possible service to every customer. This includes ...', \"The growth of Amazon allows all retailers to sell in the world's main Marketplace, which represents a great opportunity, since it allows them the possibility of ...\"]\u001b[0m\n",
      "Thought:\u001b[32;1m\u001b[1;3m Here is the summary with final answer:\n",
      "\n",
      "The question asked what Amazon's core businesses are. \n",
      "\n",
      "To find the answer, I searched online for \"amazon core business\" and reviewed the top search results. \n",
      "\n",
      "The key observations from the search results are:\n",
      "\n",
      "- Amazon's core business is ecommerce, selling products directly to consumers through its online marketplace\n",
      "\n",
      "- Amazon Web Services (AWS) is another major business segment, providing cloud computing services\n",
      "\n",
      "- Other parts of Amazon's business like Prime subscriptions, third-party selling, and physical stores support the core ecommerce marketplace\n",
      "\n",
      "Final Answer: Amazon's two core businesses are its global ecommerce marketplace and Amazon Web Services (AWS) cloud computing.\u001b[0m\n",
      "\n",
      "\u001b[1m> Finished chain.\u001b[0m\n",
      "Amazon's two core businesses are its global ecommerce marketplace and Amazon Web Services (AWS) cloud computing.\n"
     ]
    }
   ],
   "source": [
    "import os\n",
    "\n",
    "from langchain_community.document_loaders import CSVLoader\n",
    "from langchain_community.document_loaders import BSHTMLLoader\n",
    "from langchain_community.document_loaders import PyPDFLoader\n",
    "from langchain_community.document_loaders import WikipediaLoader\n",
    "\n",
    "from langchain_community.vectorstores import Chroma\n",
    "\n",
    "from langchain_community.embeddings import BedrockEmbeddings\n",
    "from langchain_community.chat_models import BedrockChat\n",
    "from langchain.schema import HumanMessage, AIMessage, SystemMessage\n",
    "from langchain.prompts import PromptTemplate, HumanMessagePromptTemplate, ChatPromptTemplate\n",
    "from langchain.chains import TransformChain, LLMChain, SimpleSequentialChain, SequentialChain\n",
    "from langchain.text_splitter import CharacterTextSplitter\n",
    "from langchain.chains.question_answering import load_qa_chain\n",
    "from langchain.chains.qa_with_sources import load_qa_with_sources_chain\n",
    "from langchain.agents import load_tools, initialize_agent, AgentType\n",
    "import boto3\n",
    "\n",
    "import configparser\n",
    "\n",
    "from langchain.prompts import PromptTemplate\n",
    "\n",
    "PROMPT_TEMPLATE = \"\"\"Use the following format:\n",
    "Question: {question}\n",
    "Thought: summarize based on Observation\n",
    "Action: the action to take, should be one of: {tool_names}\n",
    "Action Input: the input to the action\n",
    "Observation: the result of the action\n",
    "Thought: do not repeat Question and Thought, summarize based on Observation and ouput Final Answer\n",
    "Final Answer: the final answer to the original input question\n",
    "Please respect the order of the steps Thought/Action/Action Input/Observation\n",
    "\"\"\"\n",
    "\n",
    "agent_prompt = PromptTemplate(template=PROMPT_TEMPLATE, \n",
    "                                input_variables=[\"tool_names\",\"question\"])\n",
    "\n",
    "\n",
    "# Konfigurationsdatei laden\n",
    "# config = configparser.ConfigParser()\n",
    "# config.read('config.ini')\n",
    "# sections = config.sections()  \n",
    "# print(sections)\n",
    "session = boto3.Session()\n",
    "\n",
    "def run_demo(session,prompt):\n",
    "    bedrock = session.client('bedrock')\n",
    "    bedrock_runtime = session.client('bedrock-runtime', region_name=\"us-east-1\")\n",
    "\n",
    "    model_id = \"anthropic.claude-3-sonnet-20240229-v1:0\"\n",
    "    model_kwargs = { \"temperature\": 0.0, 'max_tokens_to_sample': 200 }\n",
    "\n",
    "    # serpapi_api_key = config.get('serpapi', 'api_key')\n",
    "    # Set SerpApi ApiKey\n",
    "    os.environ[\"SERPAPI_API_KEY\"] = 'a724eed26f083f0b890c7fcb907242e9b999bf2ed5d54172f4671550697f290d'# 这里需要改为自己的SERPAPI_API_KEY\n",
    "\n",
    "    demo_agents_serpapi(bedrock_runtime, prompt=prompt)\n",
    "\n",
    "    \n",
    "def demo_agents_serpapi(bedrock_runtime, \n",
    "                        embedding_model_id : str = \"amazon.titan-embed-text-v1\", \n",
    "                        llm_model_id : str = \"anthropic.claude-v2\", \n",
    "                        llm_model_kwargs : dict = { \"temperature\": 0.0 },\n",
    "                        prompt = \"\"):\n",
    "\n",
    "    print(\"Call demo_agents_serpapi\")\n",
    "\n",
    "    embeddings = BedrockEmbeddings(\n",
    "        client = bedrock_runtime,\n",
    "        model_id = embedding_model_id\n",
    "    )\n",
    "\n",
    "    llm = BedrockChat(\n",
    "        client = bedrock_runtime,\n",
    "        model_id = llm_model_id,\n",
    "        model_kwargs = llm_model_kwargs,\n",
    "    )\n",
    "\n",
    "    tools = load_tools(['serpapi', 'llm-math'], llm=llm)\n",
    "\n",
    "    agent = initialize_agent(tools, llm, agent=AgentType.ZERO_SHOT_REACT_DESCRIPTION, verbose = True, max_iterations = 5,handle_parsing_errors=\"Return summary according to Observation and complete search result\")\n",
    "    \n",
    "    query = \"amazon 核心业务有哪些?\"\n",
    "    prompt = agent_prompt.format(tool_names=tools,question=query)\n",
    "\n",
    "    result = agent.run(input=prompt)\n",
    "\n",
    "\n",
    "    print(result)\n",
    "\n",
    "run_demo(session,query)"
   ]
  },
  {
   "cell_type": "code",
   "execution_count": 14,
   "metadata": {},
   "outputs": [
    {
     "data": {
      "text/plain": [
       "\"\\n    Human: You are a financial advisor AI system, and provides answers to questions by using fact based and statistical information when possible. \\n    Use the following pieces of information to provide a concise answer to the question enclosed in <question> tags. \\n    If you don't know the answer, just say that you don't know, don't try to make up an answer.\\n    <context>\\n    ['表2：AWS 核心经营指标   单位：百万美元 Q1-22 Q2-22 Q3-22 Q4-22 Q1-23   北美销售收入 69,244 74,430 78,843 93,363 76,881   YOY 8% 10% 20% 13% 11%   营业利润 -1568 -627 -412 -240 898   营业利润率 -2.3% -0.8% -0.5% -0.3% 1.2%   国际销售收入 28,759 27,065 27,720 34,463 29,123   YOY -6% -12% -5% -8% 1%   营业利润 -1281 -1771 -2466 -2228 -1247   营业利润率 -4.5% -6.5% -8.9% -6.5% -4.3%   AWS 18,441 19,739 20,538 21,378 21,354   YOY 37% 33% 27% 20% 16%   营业利润 6,518.00 5,715.00 5,403.00 5,205.00 5,123.00   营业利润率 35.3% 29.0% 26.3% 24.3% 24.0%   资料来源：公司公告、国信证券经济研究所整理   主要业务分析：   ①零售走出周期底部，利润率持续修复。总体零售板块营收稳步增长、利润持续   修复，逐渐走出疫情与加息周期宏观的影响。在本季度，北美地区的广义零售业   务同比上涨了 11%，这一增长速度超过了美国零售总收入的一季度增长率 7%。利   润率的增加主要是由于运营成本的减少。过去的一年里，亚马逊裁减了超过   70,000 名员工，并且停止了物流仓库基础设施以及在线医疗等次要业务。在今年   的第一季度，亚马逊继续大幅度削减了员工和基础设施等运营成本。', '表2：AWS 核心经营指标   单位：百万美元 Q1-22 Q2-22 Q3-22 Q4-22 Q1-23   北美销售收入 69,244 74,430 78,843 93,363 76,881   YOY 8% 10% 20% 13% 11%   营业利润 -1568 -627 -412 -240 898   营业利润率 -2.3% -0.8% -0.5% -0.3% 1.2%   国际销售收入 28,759 27,065 27,720 34,463 29,123   YOY -6% -12% -5% -8% 1%   营业利润 -1281 -1771 -2466 -2228 -1247   营业利润率 -4.5% -6.5% -8.9% -6.5% -4.3%   AWS 18,441 19,739 20,538 21,378 21,354   YOY 37% 33% 27% 20% 16%   营业利润 6,518.00 5,715.00 5,403.00 5,205.00 5,123.00   营业利润率 35.3% 29.0% 26.3% 24.3% 24.0%   资料来源：公司公告、国信证券经济研究所整理   主要业务分析：   ①零售走出周期底部，利润率持续修复。总体零售板块营收稳步增长、利润持续   修复，逐渐走出疫情与加息周期宏观的影响。在本季度，北美地区的广义零售业   务同比上涨了 11%，这一增长速度超过了美国零售总收入的一季度增长率 7%。利   润率的增加主要是由于运营成本的减少。过去的一年里，亚马逊裁减了超过   70,000 名员工，并且停止了物流仓库基础设施以及在线医疗等次要业务。在今年   的第一季度，亚马逊继续大幅度削减了员工和基础设施等运营成本。', '同时 AWS 作为占据了全球 30%以上的市场份额的   龙头，面临着市场饱和、竞争加剧的双重压力。但通过亚马逊在 AI 领域包括   算力、平台、应用的布局有望增益云业务竞争力与商业价值。③AI 有望进一步   降低零售运营成本，提升用户体验，打开新的增长空间。凭借 AI 技术的突破   与亚马逊自身拥有海量用户数据流量，亚马逊有望提升相关业务服务质量和利   润率。对于零售业务端可以进行精准营销、更智能的客户服务、提升存储物流   等运营效率，对于 3P 卖家服务和广告订阅业务可以进行高效的营销和娱乐内   容生成、提升履约效率、降低履约成本。   财报概览：亚马逊2023Q1整体财务表现稳健，但云业务指引偏弱。①整体：在2023   年第一季度，亚马逊实现了营收1274亿美元，同比增长9%，毛利率42.6%，营业利   润48亿美元（同比+30%，OPM3.7%），净利润32亿美元（上年同期为净亏损38亿   美元），扭亏为盈。②分业务看:零售版块,线上自营零售收入 511 亿美元（同比   持平），线下零售收入 49 亿美元（同比+7%），第三方卖家服务收入 298 亿美   元（同比+18%），订阅服务收入 97 亿美元（同比+15%），广告收入 95 亿美元   （同比+21%）,云业务版块，AWS 云业务收入 214 亿元（同比+16%）。③业绩指   引：公司预计 Q2 收入 1270-1330 亿美元（同比增长 5%-10%)，经营利润为 20-55   亿美元。', '同时 AWS 作为占据了全球 30%以上的市场份额的   龙头，面临着市场饱和、竞争加剧的双重压力。但通过亚马逊在 AI 领域包括   算力、平台、应用的布局有望增益云业务竞争力与商业价值。③AI 有望进一步   降低零售运营成本，提升用户体验，打开新的增长空间。凭借 AI 技术的突破   与亚马逊自身拥有海量用户数据流量，亚马逊有望提升相关业务服务质量和利   润率。对于零售业务端可以进行精准营销、更智能的客户服务、提升存储物流   等运营效率，对于 3P 卖家服务和广告订阅业务可以进行高效的营销和娱乐内   容生成、提升履约效率、降低履约成本。   财报概览：亚马逊2023Q1整体财务表现稳健，但云业务指引偏弱。①整体：在2023   年第一季度，亚马逊实现了营收1274亿美元，同比增长9%，毛利率42.6%，营业利   润48亿美元（同比+30%，OPM3.7%），净利润32亿美元（上年同期为净亏损38亿   美元），扭亏为盈。②分业务看:零售版块,线上自营零售收入 511 亿美元（同比   持平），线下零售收入 49 亿美元（同比+7%），第三方卖家服务收入 298 亿美   元（同比+18%），订阅服务收入 97 亿美元（同比+15%），广告收入 95 亿美元   （同比+21%）,云业务版块，AWS 云业务收入 214 亿元（同比+16%）。③业绩指   引：公司预计 Q2 收入 1270-1330 亿美元（同比增长 5%-10%)，经营利润为 20-55   亿美元。']\\n    </context>\\n\\n    <question>\\n    amazon 核心业务有哪些?\\n    </question>\\n\\n    The response should be specific and use statistics or numbers when possible.\\n\\n    Assistant:\""
      ]
     },
     "execution_count": 14,
     "metadata": {},
     "output_type": "execute_result"
    }
   ],
   "source": [
    "prompt"
   ]
  }
 ],
 "metadata": {
  "availableInstances": [
   {
    "_defaultOrder": 0,
    "_isFastLaunch": true,
    "category": "General purpose",
    "gpuNum": 0,
    "hideHardwareSpecs": false,
    "memoryGiB": 4,
    "name": "ml.t3.medium",
    "vcpuNum": 2
   },
   {
    "_defaultOrder": 1,
    "_isFastLaunch": false,
    "category": "General purpose",
    "gpuNum": 0,
    "hideHardwareSpecs": false,
    "memoryGiB": 8,
    "name": "ml.t3.large",
    "vcpuNum": 2
   },
   {
    "_defaultOrder": 2,
    "_isFastLaunch": false,
    "category": "General purpose",
    "gpuNum": 0,
    "hideHardwareSpecs": false,
    "memoryGiB": 16,
    "name": "ml.t3.xlarge",
    "vcpuNum": 4
   },
   {
    "_defaultOrder": 3,
    "_isFastLaunch": false,
    "category": "General purpose",
    "gpuNum": 0,
    "hideHardwareSpecs": false,
    "memoryGiB": 32,
    "name": "ml.t3.2xlarge",
    "vcpuNum": 8
   },
   {
    "_defaultOrder": 4,
    "_isFastLaunch": true,
    "category": "General purpose",
    "gpuNum": 0,
    "hideHardwareSpecs": false,
    "memoryGiB": 8,
    "name": "ml.m5.large",
    "vcpuNum": 2
   },
   {
    "_defaultOrder": 5,
    "_isFastLaunch": false,
    "category": "General purpose",
    "gpuNum": 0,
    "hideHardwareSpecs": false,
    "memoryGiB": 16,
    "name": "ml.m5.xlarge",
    "vcpuNum": 4
   },
   {
    "_defaultOrder": 6,
    "_isFastLaunch": false,
    "category": "General purpose",
    "gpuNum": 0,
    "hideHardwareSpecs": false,
    "memoryGiB": 32,
    "name": "ml.m5.2xlarge",
    "vcpuNum": 8
   },
   {
    "_defaultOrder": 7,
    "_isFastLaunch": false,
    "category": "General purpose",
    "gpuNum": 0,
    "hideHardwareSpecs": false,
    "memoryGiB": 64,
    "name": "ml.m5.4xlarge",
    "vcpuNum": 16
   },
   {
    "_defaultOrder": 8,
    "_isFastLaunch": false,
    "category": "General purpose",
    "gpuNum": 0,
    "hideHardwareSpecs": false,
    "memoryGiB": 128,
    "name": "ml.m5.8xlarge",
    "vcpuNum": 32
   },
   {
    "_defaultOrder": 9,
    "_isFastLaunch": false,
    "category": "General purpose",
    "gpuNum": 0,
    "hideHardwareSpecs": false,
    "memoryGiB": 192,
    "name": "ml.m5.12xlarge",
    "vcpuNum": 48
   },
   {
    "_defaultOrder": 10,
    "_isFastLaunch": false,
    "category": "General purpose",
    "gpuNum": 0,
    "hideHardwareSpecs": false,
    "memoryGiB": 256,
    "name": "ml.m5.16xlarge",
    "vcpuNum": 64
   },
   {
    "_defaultOrder": 11,
    "_isFastLaunch": false,
    "category": "General purpose",
    "gpuNum": 0,
    "hideHardwareSpecs": false,
    "memoryGiB": 384,
    "name": "ml.m5.24xlarge",
    "vcpuNum": 96
   },
   {
    "_defaultOrder": 12,
    "_isFastLaunch": false,
    "category": "General purpose",
    "gpuNum": 0,
    "hideHardwareSpecs": false,
    "memoryGiB": 8,
    "name": "ml.m5d.large",
    "vcpuNum": 2
   },
   {
    "_defaultOrder": 13,
    "_isFastLaunch": false,
    "category": "General purpose",
    "gpuNum": 0,
    "hideHardwareSpecs": false,
    "memoryGiB": 16,
    "name": "ml.m5d.xlarge",
    "vcpuNum": 4
   },
   {
    "_defaultOrder": 14,
    "_isFastLaunch": false,
    "category": "General purpose",
    "gpuNum": 0,
    "hideHardwareSpecs": false,
    "memoryGiB": 32,
    "name": "ml.m5d.2xlarge",
    "vcpuNum": 8
   },
   {
    "_defaultOrder": 15,
    "_isFastLaunch": false,
    "category": "General purpose",
    "gpuNum": 0,
    "hideHardwareSpecs": false,
    "memoryGiB": 64,
    "name": "ml.m5d.4xlarge",
    "vcpuNum": 16
   },
   {
    "_defaultOrder": 16,
    "_isFastLaunch": false,
    "category": "General purpose",
    "gpuNum": 0,
    "hideHardwareSpecs": false,
    "memoryGiB": 128,
    "name": "ml.m5d.8xlarge",
    "vcpuNum": 32
   },
   {
    "_defaultOrder": 17,
    "_isFastLaunch": false,
    "category": "General purpose",
    "gpuNum": 0,
    "hideHardwareSpecs": false,
    "memoryGiB": 192,
    "name": "ml.m5d.12xlarge",
    "vcpuNum": 48
   },
   {
    "_defaultOrder": 18,
    "_isFastLaunch": false,
    "category": "General purpose",
    "gpuNum": 0,
    "hideHardwareSpecs": false,
    "memoryGiB": 256,
    "name": "ml.m5d.16xlarge",
    "vcpuNum": 64
   },
   {
    "_defaultOrder": 19,
    "_isFastLaunch": false,
    "category": "General purpose",
    "gpuNum": 0,
    "hideHardwareSpecs": false,
    "memoryGiB": 384,
    "name": "ml.m5d.24xlarge",
    "vcpuNum": 96
   },
   {
    "_defaultOrder": 20,
    "_isFastLaunch": false,
    "category": "General purpose",
    "gpuNum": 0,
    "hideHardwareSpecs": true,
    "memoryGiB": 0,
    "name": "ml.geospatial.interactive",
    "supportedImageNames": [
     "sagemaker-geospatial-v1-0"
    ],
    "vcpuNum": 0
   },
   {
    "_defaultOrder": 21,
    "_isFastLaunch": true,
    "category": "Compute optimized",
    "gpuNum": 0,
    "hideHardwareSpecs": false,
    "memoryGiB": 4,
    "name": "ml.c5.large",
    "vcpuNum": 2
   },
   {
    "_defaultOrder": 22,
    "_isFastLaunch": false,
    "category": "Compute optimized",
    "gpuNum": 0,
    "hideHardwareSpecs": false,
    "memoryGiB": 8,
    "name": "ml.c5.xlarge",
    "vcpuNum": 4
   },
   {
    "_defaultOrder": 23,
    "_isFastLaunch": false,
    "category": "Compute optimized",
    "gpuNum": 0,
    "hideHardwareSpecs": false,
    "memoryGiB": 16,
    "name": "ml.c5.2xlarge",
    "vcpuNum": 8
   },
   {
    "_defaultOrder": 24,
    "_isFastLaunch": false,
    "category": "Compute optimized",
    "gpuNum": 0,
    "hideHardwareSpecs": false,
    "memoryGiB": 32,
    "name": "ml.c5.4xlarge",
    "vcpuNum": 16
   },
   {
    "_defaultOrder": 25,
    "_isFastLaunch": false,
    "category": "Compute optimized",
    "gpuNum": 0,
    "hideHardwareSpecs": false,
    "memoryGiB": 72,
    "name": "ml.c5.9xlarge",
    "vcpuNum": 36
   },
   {
    "_defaultOrder": 26,
    "_isFastLaunch": false,
    "category": "Compute optimized",
    "gpuNum": 0,
    "hideHardwareSpecs": false,
    "memoryGiB": 96,
    "name": "ml.c5.12xlarge",
    "vcpuNum": 48
   },
   {
    "_defaultOrder": 27,
    "_isFastLaunch": false,
    "category": "Compute optimized",
    "gpuNum": 0,
    "hideHardwareSpecs": false,
    "memoryGiB": 144,
    "name": "ml.c5.18xlarge",
    "vcpuNum": 72
   },
   {
    "_defaultOrder": 28,
    "_isFastLaunch": false,
    "category": "Compute optimized",
    "gpuNum": 0,
    "hideHardwareSpecs": false,
    "memoryGiB": 192,
    "name": "ml.c5.24xlarge",
    "vcpuNum": 96
   },
   {
    "_defaultOrder": 29,
    "_isFastLaunch": true,
    "category": "Accelerated computing",
    "gpuNum": 1,
    "hideHardwareSpecs": false,
    "memoryGiB": 16,
    "name": "ml.g4dn.xlarge",
    "vcpuNum": 4
   },
   {
    "_defaultOrder": 30,
    "_isFastLaunch": false,
    "category": "Accelerated computing",
    "gpuNum": 1,
    "hideHardwareSpecs": false,
    "memoryGiB": 32,
    "name": "ml.g4dn.2xlarge",
    "vcpuNum": 8
   },
   {
    "_defaultOrder": 31,
    "_isFastLaunch": false,
    "category": "Accelerated computing",
    "gpuNum": 1,
    "hideHardwareSpecs": false,
    "memoryGiB": 64,
    "name": "ml.g4dn.4xlarge",
    "vcpuNum": 16
   },
   {
    "_defaultOrder": 32,
    "_isFastLaunch": false,
    "category": "Accelerated computing",
    "gpuNum": 1,
    "hideHardwareSpecs": false,
    "memoryGiB": 128,
    "name": "ml.g4dn.8xlarge",
    "vcpuNum": 32
   },
   {
    "_defaultOrder": 33,
    "_isFastLaunch": false,
    "category": "Accelerated computing",
    "gpuNum": 4,
    "hideHardwareSpecs": false,
    "memoryGiB": 192,
    "name": "ml.g4dn.12xlarge",
    "vcpuNum": 48
   },
   {
    "_defaultOrder": 34,
    "_isFastLaunch": false,
    "category": "Accelerated computing",
    "gpuNum": 1,
    "hideHardwareSpecs": false,
    "memoryGiB": 256,
    "name": "ml.g4dn.16xlarge",
    "vcpuNum": 64
   },
   {
    "_defaultOrder": 35,
    "_isFastLaunch": false,
    "category": "Accelerated computing",
    "gpuNum": 1,
    "hideHardwareSpecs": false,
    "memoryGiB": 61,
    "name": "ml.p3.2xlarge",
    "vcpuNum": 8
   },
   {
    "_defaultOrder": 36,
    "_isFastLaunch": false,
    "category": "Accelerated computing",
    "gpuNum": 4,
    "hideHardwareSpecs": false,
    "memoryGiB": 244,
    "name": "ml.p3.8xlarge",
    "vcpuNum": 32
   },
   {
    "_defaultOrder": 37,
    "_isFastLaunch": false,
    "category": "Accelerated computing",
    "gpuNum": 8,
    "hideHardwareSpecs": false,
    "memoryGiB": 488,
    "name": "ml.p3.16xlarge",
    "vcpuNum": 64
   },
   {
    "_defaultOrder": 38,
    "_isFastLaunch": false,
    "category": "Accelerated computing",
    "gpuNum": 8,
    "hideHardwareSpecs": false,
    "memoryGiB": 768,
    "name": "ml.p3dn.24xlarge",
    "vcpuNum": 96
   },
   {
    "_defaultOrder": 39,
    "_isFastLaunch": false,
    "category": "Memory Optimized",
    "gpuNum": 0,
    "hideHardwareSpecs": false,
    "memoryGiB": 16,
    "name": "ml.r5.large",
    "vcpuNum": 2
   },
   {
    "_defaultOrder": 40,
    "_isFastLaunch": false,
    "category": "Memory Optimized",
    "gpuNum": 0,
    "hideHardwareSpecs": false,
    "memoryGiB": 32,
    "name": "ml.r5.xlarge",
    "vcpuNum": 4
   },
   {
    "_defaultOrder": 41,
    "_isFastLaunch": false,
    "category": "Memory Optimized",
    "gpuNum": 0,
    "hideHardwareSpecs": false,
    "memoryGiB": 64,
    "name": "ml.r5.2xlarge",
    "vcpuNum": 8
   },
   {
    "_defaultOrder": 42,
    "_isFastLaunch": false,
    "category": "Memory Optimized",
    "gpuNum": 0,
    "hideHardwareSpecs": false,
    "memoryGiB": 128,
    "name": "ml.r5.4xlarge",
    "vcpuNum": 16
   },
   {
    "_defaultOrder": 43,
    "_isFastLaunch": false,
    "category": "Memory Optimized",
    "gpuNum": 0,
    "hideHardwareSpecs": false,
    "memoryGiB": 256,
    "name": "ml.r5.8xlarge",
    "vcpuNum": 32
   },
   {
    "_defaultOrder": 44,
    "_isFastLaunch": false,
    "category": "Memory Optimized",
    "gpuNum": 0,
    "hideHardwareSpecs": false,
    "memoryGiB": 384,
    "name": "ml.r5.12xlarge",
    "vcpuNum": 48
   },
   {
    "_defaultOrder": 45,
    "_isFastLaunch": false,
    "category": "Memory Optimized",
    "gpuNum": 0,
    "hideHardwareSpecs": false,
    "memoryGiB": 512,
    "name": "ml.r5.16xlarge",
    "vcpuNum": 64
   },
   {
    "_defaultOrder": 46,
    "_isFastLaunch": false,
    "category": "Memory Optimized",
    "gpuNum": 0,
    "hideHardwareSpecs": false,
    "memoryGiB": 768,
    "name": "ml.r5.24xlarge",
    "vcpuNum": 96
   },
   {
    "_defaultOrder": 47,
    "_isFastLaunch": false,
    "category": "Accelerated computing",
    "gpuNum": 1,
    "hideHardwareSpecs": false,
    "memoryGiB": 16,
    "name": "ml.g5.xlarge",
    "vcpuNum": 4
   },
   {
    "_defaultOrder": 48,
    "_isFastLaunch": false,
    "category": "Accelerated computing",
    "gpuNum": 1,
    "hideHardwareSpecs": false,
    "memoryGiB": 32,
    "name": "ml.g5.2xlarge",
    "vcpuNum": 8
   },
   {
    "_defaultOrder": 49,
    "_isFastLaunch": false,
    "category": "Accelerated computing",
    "gpuNum": 1,
    "hideHardwareSpecs": false,
    "memoryGiB": 64,
    "name": "ml.g5.4xlarge",
    "vcpuNum": 16
   },
   {
    "_defaultOrder": 50,
    "_isFastLaunch": false,
    "category": "Accelerated computing",
    "gpuNum": 1,
    "hideHardwareSpecs": false,
    "memoryGiB": 128,
    "name": "ml.g5.8xlarge",
    "vcpuNum": 32
   },
   {
    "_defaultOrder": 51,
    "_isFastLaunch": false,
    "category": "Accelerated computing",
    "gpuNum": 1,
    "hideHardwareSpecs": false,
    "memoryGiB": 256,
    "name": "ml.g5.16xlarge",
    "vcpuNum": 64
   },
   {
    "_defaultOrder": 52,
    "_isFastLaunch": false,
    "category": "Accelerated computing",
    "gpuNum": 4,
    "hideHardwareSpecs": false,
    "memoryGiB": 192,
    "name": "ml.g5.12xlarge",
    "vcpuNum": 48
   },
   {
    "_defaultOrder": 53,
    "_isFastLaunch": false,
    "category": "Accelerated computing",
    "gpuNum": 4,
    "hideHardwareSpecs": false,
    "memoryGiB": 384,
    "name": "ml.g5.24xlarge",
    "vcpuNum": 96
   },
   {
    "_defaultOrder": 54,
    "_isFastLaunch": false,
    "category": "Accelerated computing",
    "gpuNum": 8,
    "hideHardwareSpecs": false,
    "memoryGiB": 768,
    "name": "ml.g5.48xlarge",
    "vcpuNum": 192
   },
   {
    "_defaultOrder": 55,
    "_isFastLaunch": false,
    "category": "Accelerated computing",
    "gpuNum": 8,
    "hideHardwareSpecs": false,
    "memoryGiB": 1152,
    "name": "ml.p4d.24xlarge",
    "vcpuNum": 96
   },
   {
    "_defaultOrder": 56,
    "_isFastLaunch": false,
    "category": "Accelerated computing",
    "gpuNum": 8,
    "hideHardwareSpecs": false,
    "memoryGiB": 1152,
    "name": "ml.p4de.24xlarge",
    "vcpuNum": 96
   },
   {
    "_defaultOrder": 57,
    "_isFastLaunch": false,
    "category": "Accelerated computing",
    "gpuNum": 0,
    "hideHardwareSpecs": false,
    "memoryGiB": 32,
    "name": "ml.trn1.2xlarge",
    "vcpuNum": 8
   },
   {
    "_defaultOrder": 58,
    "_isFastLaunch": false,
    "category": "Accelerated computing",
    "gpuNum": 0,
    "hideHardwareSpecs": false,
    "memoryGiB": 512,
    "name": "ml.trn1.32xlarge",
    "vcpuNum": 128
   },
   {
    "_defaultOrder": 59,
    "_isFastLaunch": false,
    "category": "Accelerated computing",
    "gpuNum": 0,
    "hideHardwareSpecs": false,
    "memoryGiB": 512,
    "name": "ml.trn1n.32xlarge",
    "vcpuNum": 128
   }
  ],
  "instance_type": "ml.t3.medium",
  "kernelspec": {
   "display_name": "conda_pytorch_p310",
   "language": "python",
   "name": "conda_pytorch_p310"
  },
  "language_info": {
   "codemirror_mode": {
    "name": "ipython",
    "version": 3
   },
   "file_extension": ".py",
   "mimetype": "text/x-python",
   "name": "python",
   "nbconvert_exporter": "python",
   "pygments_lexer": "ipython3",
   "version": "3.10.13"
  }
 },
 "nbformat": 4,
 "nbformat_minor": 4
}
