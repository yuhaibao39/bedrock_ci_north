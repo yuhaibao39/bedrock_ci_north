{
 "cells": [
  {
   "cell_type": "markdown",
   "id": "331d43e6-031d-4dc3-ba24-eeb453a14055",
   "metadata": {},
   "source": [
    "# 认识Bedrock"
   ]
  },
  {
   "cell_type": "markdown",
   "id": "a0d55a7d-204a-4738-904a-2da5a695fb82",
   "metadata": {},
   "source": [
    "![](images/bedrock_models.png)"
   ]
  },
  {
   "cell_type": "code",
   "execution_count": 2,
   "id": "c055ed95-60af-4a83-b3b1-2f5b53dc8770",
   "metadata": {
    "scrolled": true,
    "tags": []
   },
   "outputs": [
    {
     "name": "stdout",
     "output_type": "stream",
     "text": [
      "Requirement already satisfied: tiktoken==0.5.1 in /home/ec2-user/anaconda3/envs/pytorch_p310/lib/python3.10/site-packages (from -r requirements.txt (line 2)) (0.5.1)\n",
      "Requirement already satisfied: unstructured==0.10.16 in /home/ec2-user/anaconda3/envs/pytorch_p310/lib/python3.10/site-packages (from -r requirements.txt (line 3)) (0.10.16)\n",
      "Requirement already satisfied: langchain in /home/ec2-user/anaconda3/envs/pytorch_p310/lib/python3.10/site-packages (from -r requirements.txt (line 4)) (0.0.342)\n",
      "Requirement already satisfied: PyPDF2==3.0.1 in /home/ec2-user/anaconda3/envs/pytorch_p310/lib/python3.10/site-packages (from -r requirements.txt (line 5)) (3.0.1)\n",
      "Requirement already satisfied: python-dotenv==1.0.0 in /home/ec2-user/anaconda3/envs/pytorch_p310/lib/python3.10/site-packages (from -r requirements.txt (line 6)) (1.0.0)\n",
      "Requirement already satisfied: psycopg2-binary==2.9.6 in /home/ec2-user/anaconda3/envs/pytorch_p310/lib/python3.10/site-packages (from -r requirements.txt (line 7)) (2.9.6)\n",
      "Requirement already satisfied: altair==4.0.0 in /home/ec2-user/anaconda3/envs/pytorch_p310/lib/python3.10/site-packages (from -r requirements.txt (line 8)) (4.0.0)\n",
      "Requirement already satisfied: urllib3==1.26.17 in /home/ec2-user/anaconda3/envs/pytorch_p310/lib/python3.10/site-packages (from -r requirements.txt (line 10)) (1.26.17)\n",
      "Requirement already satisfied: boto3==1.33.2 in /home/ec2-user/anaconda3/envs/pytorch_p310/lib/python3.10/site-packages (from -r requirements.txt (line 11)) (1.33.2)\n",
      "Requirement already satisfied: transformers==4.34.0 in /home/ec2-user/anaconda3/envs/pytorch_p310/lib/python3.10/site-packages (from -r requirements.txt (line 12)) (4.34.0)\n",
      "Requirement already satisfied: opensearch-py==2.3.1 in /home/ec2-user/anaconda3/envs/pytorch_p310/lib/python3.10/site-packages (from -r requirements.txt (line 14)) (2.3.1)\n",
      "Requirement already satisfied: botocore==1.33.2 in /home/ec2-user/anaconda3/envs/pytorch_p310/lib/python3.10/site-packages (from -r requirements.txt (line 15)) (1.33.2)\n",
      "Requirement already satisfied: google-search-results in /home/ec2-user/anaconda3/envs/pytorch_p310/lib/python3.10/site-packages (from -r requirements.txt (line 16)) (2.4.2)\n",
      "Requirement already satisfied: numexpr in /home/ec2-user/anaconda3/envs/pytorch_p310/lib/python3.10/site-packages (from -r requirements.txt (line 17)) (2.9.0)\n",
      "Requirement already satisfied: langchain_community in /home/ec2-user/anaconda3/envs/pytorch_p310/lib/python3.10/site-packages (from -r requirements.txt (line 18)) (0.0.1)\n",
      "Requirement already satisfied: regex>=2022.1.18 in /home/ec2-user/anaconda3/envs/pytorch_p310/lib/python3.10/site-packages (from tiktoken==0.5.1->-r requirements.txt (line 2)) (2023.12.25)\n",
      "Requirement already satisfied: requests>=2.26.0 in /home/ec2-user/anaconda3/envs/pytorch_p310/lib/python3.10/site-packages (from tiktoken==0.5.1->-r requirements.txt (line 2)) (2.31.0)\n",
      "Requirement already satisfied: chardet in /home/ec2-user/anaconda3/envs/pytorch_p310/lib/python3.10/site-packages (from unstructured==0.10.16->-r requirements.txt (line 3)) (5.2.0)\n",
      "Requirement already satisfied: filetype in /home/ec2-user/anaconda3/envs/pytorch_p310/lib/python3.10/site-packages (from unstructured==0.10.16->-r requirements.txt (line 3)) (1.2.0)\n",
      "Requirement already satisfied: python-magic in /home/ec2-user/anaconda3/envs/pytorch_p310/lib/python3.10/site-packages (from unstructured==0.10.16->-r requirements.txt (line 3)) (0.4.27)\n",
      "Requirement already satisfied: lxml in /home/ec2-user/anaconda3/envs/pytorch_p310/lib/python3.10/site-packages (from unstructured==0.10.16->-r requirements.txt (line 3)) (5.1.0)\n",
      "Requirement already satisfied: nltk in /home/ec2-user/anaconda3/envs/pytorch_p310/lib/python3.10/site-packages (from unstructured==0.10.16->-r requirements.txt (line 3)) (3.8.1)\n",
      "Requirement already satisfied: tabulate in /home/ec2-user/anaconda3/envs/pytorch_p310/lib/python3.10/site-packages (from unstructured==0.10.16->-r requirements.txt (line 3)) (0.9.0)\n",
      "Requirement already satisfied: beautifulsoup4 in /home/ec2-user/anaconda3/envs/pytorch_p310/lib/python3.10/site-packages (from unstructured==0.10.16->-r requirements.txt (line 3)) (4.12.2)\n",
      "Requirement already satisfied: emoji in /home/ec2-user/anaconda3/envs/pytorch_p310/lib/python3.10/site-packages (from unstructured==0.10.16->-r requirements.txt (line 3)) (2.10.1)\n",
      "Requirement already satisfied: dataclasses-json in /home/ec2-user/anaconda3/envs/pytorch_p310/lib/python3.10/site-packages (from unstructured==0.10.16->-r requirements.txt (line 3)) (0.6.4)\n",
      "Requirement already satisfied: python-iso639 in /home/ec2-user/anaconda3/envs/pytorch_p310/lib/python3.10/site-packages (from unstructured==0.10.16->-r requirements.txt (line 3)) (2024.2.7)\n",
      "Requirement already satisfied: entrypoints in /home/ec2-user/anaconda3/envs/pytorch_p310/lib/python3.10/site-packages (from altair==4.0.0->-r requirements.txt (line 8)) (0.4)\n",
      "Requirement already satisfied: jinja2 in /home/ec2-user/anaconda3/envs/pytorch_p310/lib/python3.10/site-packages (from altair==4.0.0->-r requirements.txt (line 8)) (3.1.2)\n",
      "Requirement already satisfied: jsonschema in /home/ec2-user/anaconda3/envs/pytorch_p310/lib/python3.10/site-packages (from altair==4.0.0->-r requirements.txt (line 8)) (4.19.1)\n",
      "Requirement already satisfied: numpy in /home/ec2-user/anaconda3/envs/pytorch_p310/lib/python3.10/site-packages (from altair==4.0.0->-r requirements.txt (line 8)) (1.26.1)\n",
      "Requirement already satisfied: pandas in /home/ec2-user/anaconda3/envs/pytorch_p310/lib/python3.10/site-packages (from altair==4.0.0->-r requirements.txt (line 8)) (1.5.3)\n",
      "Requirement already satisfied: toolz in /home/ec2-user/anaconda3/envs/pytorch_p310/lib/python3.10/site-packages (from altair==4.0.0->-r requirements.txt (line 8)) (0.12.1)\n",
      "Requirement already satisfied: jmespath<2.0.0,>=0.7.1 in /home/ec2-user/anaconda3/envs/pytorch_p310/lib/python3.10/site-packages (from boto3==1.33.2->-r requirements.txt (line 11)) (1.0.1)\n",
      "Requirement already satisfied: s3transfer<0.9.0,>=0.8.0 in /home/ec2-user/anaconda3/envs/pytorch_p310/lib/python3.10/site-packages (from boto3==1.33.2->-r requirements.txt (line 11)) (0.8.2)\n",
      "Requirement already satisfied: filelock in /home/ec2-user/anaconda3/envs/pytorch_p310/lib/python3.10/site-packages (from transformers==4.34.0->-r requirements.txt (line 12)) (3.12.4)\n",
      "Requirement already satisfied: huggingface-hub<1.0,>=0.16.4 in /home/ec2-user/anaconda3/envs/pytorch_p310/lib/python3.10/site-packages (from transformers==4.34.0->-r requirements.txt (line 12)) (0.17.3)\n",
      "Requirement already satisfied: packaging>=20.0 in /home/ec2-user/anaconda3/envs/pytorch_p310/lib/python3.10/site-packages (from transformers==4.34.0->-r requirements.txt (line 12)) (23.2)\n",
      "Requirement already satisfied: pyyaml>=5.1 in /home/ec2-user/anaconda3/envs/pytorch_p310/lib/python3.10/site-packages (from transformers==4.34.0->-r requirements.txt (line 12)) (6.0.1)\n",
      "Requirement already satisfied: tokenizers<0.15,>=0.14 in /home/ec2-user/anaconda3/envs/pytorch_p310/lib/python3.10/site-packages (from transformers==4.34.0->-r requirements.txt (line 12)) (0.14.1)\n",
      "Requirement already satisfied: safetensors>=0.3.1 in /home/ec2-user/anaconda3/envs/pytorch_p310/lib/python3.10/site-packages (from transformers==4.34.0->-r requirements.txt (line 12)) (0.4.2)\n",
      "Requirement already satisfied: tqdm>=4.27 in /home/ec2-user/anaconda3/envs/pytorch_p310/lib/python3.10/site-packages (from transformers==4.34.0->-r requirements.txt (line 12)) (4.66.1)\n",
      "Requirement already satisfied: six in /home/ec2-user/anaconda3/envs/pytorch_p310/lib/python3.10/site-packages (from opensearch-py==2.3.1->-r requirements.txt (line 14)) (1.16.0)\n",
      "Requirement already satisfied: python-dateutil in /home/ec2-user/anaconda3/envs/pytorch_p310/lib/python3.10/site-packages (from opensearch-py==2.3.1->-r requirements.txt (line 14)) (2.8.2)\n",
      "Requirement already satisfied: certifi>=2022.12.07 in /home/ec2-user/anaconda3/envs/pytorch_p310/lib/python3.10/site-packages (from opensearch-py==2.3.1->-r requirements.txt (line 14)) (2023.7.22)\n",
      "Requirement already satisfied: SQLAlchemy<3,>=1.4 in /home/ec2-user/anaconda3/envs/pytorch_p310/lib/python3.10/site-packages (from langchain->-r requirements.txt (line 4)) (2.0.28)\n",
      "Requirement already satisfied: aiohttp<4.0.0,>=3.8.3 in /home/ec2-user/anaconda3/envs/pytorch_p310/lib/python3.10/site-packages (from langchain->-r requirements.txt (line 4)) (3.9.3)\n",
      "Requirement already satisfied: anyio<4.0 in /home/ec2-user/anaconda3/envs/pytorch_p310/lib/python3.10/site-packages (from langchain->-r requirements.txt (line 4)) (3.7.1)\n",
      "Requirement already satisfied: async-timeout<5.0.0,>=4.0.0 in /home/ec2-user/anaconda3/envs/pytorch_p310/lib/python3.10/site-packages (from langchain->-r requirements.txt (line 4)) (4.0.3)\n",
      "Requirement already satisfied: jsonpatch<2.0,>=1.33 in /home/ec2-user/anaconda3/envs/pytorch_p310/lib/python3.10/site-packages (from langchain->-r requirements.txt (line 4)) (1.33)\n",
      "Requirement already satisfied: langchain-core<0.1,>=0.0.7 in /home/ec2-user/anaconda3/envs/pytorch_p310/lib/python3.10/site-packages (from langchain->-r requirements.txt (line 4)) (0.0.13)\n",
      "Requirement already satisfied: langsmith<0.1.0,>=0.0.63 in /home/ec2-user/anaconda3/envs/pytorch_p310/lib/python3.10/site-packages (from langchain->-r requirements.txt (line 4)) (0.0.92)\n",
      "Requirement already satisfied: pydantic<3,>=1 in /home/ec2-user/anaconda3/envs/pytorch_p310/lib/python3.10/site-packages (from langchain->-r requirements.txt (line 4)) (1.10.13)\n",
      "Requirement already satisfied: tenacity<9.0.0,>=8.1.0 in /home/ec2-user/anaconda3/envs/pytorch_p310/lib/python3.10/site-packages (from langchain->-r requirements.txt (line 4)) (8.2.3)\n",
      "Requirement already satisfied: aiosignal>=1.1.2 in /home/ec2-user/anaconda3/envs/pytorch_p310/lib/python3.10/site-packages (from aiohttp<4.0.0,>=3.8.3->langchain->-r requirements.txt (line 4)) (1.3.1)\n",
      "Requirement already satisfied: attrs>=17.3.0 in /home/ec2-user/anaconda3/envs/pytorch_p310/lib/python3.10/site-packages (from aiohttp<4.0.0,>=3.8.3->langchain->-r requirements.txt (line 4)) (23.1.0)\n",
      "Requirement already satisfied: frozenlist>=1.1.1 in /home/ec2-user/anaconda3/envs/pytorch_p310/lib/python3.10/site-packages (from aiohttp<4.0.0,>=3.8.3->langchain->-r requirements.txt (line 4)) (1.4.1)\n",
      "Requirement already satisfied: multidict<7.0,>=4.5 in /home/ec2-user/anaconda3/envs/pytorch_p310/lib/python3.10/site-packages (from aiohttp<4.0.0,>=3.8.3->langchain->-r requirements.txt (line 4)) (6.0.5)\n",
      "Requirement already satisfied: yarl<2.0,>=1.0 in /home/ec2-user/anaconda3/envs/pytorch_p310/lib/python3.10/site-packages (from aiohttp<4.0.0,>=3.8.3->langchain->-r requirements.txt (line 4)) (1.9.4)\n",
      "Requirement already satisfied: idna>=2.8 in /home/ec2-user/anaconda3/envs/pytorch_p310/lib/python3.10/site-packages (from anyio<4.0->langchain->-r requirements.txt (line 4)) (3.4)\n",
      "Requirement already satisfied: sniffio>=1.1 in /home/ec2-user/anaconda3/envs/pytorch_p310/lib/python3.10/site-packages (from anyio<4.0->langchain->-r requirements.txt (line 4)) (1.3.0)\n",
      "Requirement already satisfied: exceptiongroup in /home/ec2-user/anaconda3/envs/pytorch_p310/lib/python3.10/site-packages (from anyio<4.0->langchain->-r requirements.txt (line 4)) (1.1.3)\n",
      "Requirement already satisfied: marshmallow<4.0.0,>=3.18.0 in /home/ec2-user/anaconda3/envs/pytorch_p310/lib/python3.10/site-packages (from dataclasses-json->unstructured==0.10.16->-r requirements.txt (line 3)) (3.21.1)\n",
      "Requirement already satisfied: typing-inspect<1,>=0.4.0 in /home/ec2-user/anaconda3/envs/pytorch_p310/lib/python3.10/site-packages (from dataclasses-json->unstructured==0.10.16->-r requirements.txt (line 3)) (0.9.0)\n",
      "Requirement already satisfied: fsspec in /home/ec2-user/anaconda3/envs/pytorch_p310/lib/python3.10/site-packages (from huggingface-hub<1.0,>=0.16.4->transformers==4.34.0->-r requirements.txt (line 12)) (2023.10.0)\n",
      "Requirement already satisfied: typing-extensions>=3.7.4.3 in /home/ec2-user/anaconda3/envs/pytorch_p310/lib/python3.10/site-packages (from huggingface-hub<1.0,>=0.16.4->transformers==4.34.0->-r requirements.txt (line 12)) (4.8.0)\n",
      "Requirement already satisfied: jsonpointer>=1.9 in /home/ec2-user/anaconda3/envs/pytorch_p310/lib/python3.10/site-packages (from jsonpatch<2.0,>=1.33->langchain->-r requirements.txt (line 4)) (2.4)\n",
      "Requirement already satisfied: charset-normalizer<4,>=2 in /home/ec2-user/anaconda3/envs/pytorch_p310/lib/python3.10/site-packages (from requests>=2.26.0->tiktoken==0.5.1->-r requirements.txt (line 2)) (3.3.1)\n",
      "Requirement already satisfied: greenlet!=0.4.17 in /home/ec2-user/anaconda3/envs/pytorch_p310/lib/python3.10/site-packages (from SQLAlchemy<3,>=1.4->langchain->-r requirements.txt (line 4)) (3.0.3)\n",
      "Requirement already satisfied: soupsieve>1.2 in /home/ec2-user/anaconda3/envs/pytorch_p310/lib/python3.10/site-packages (from beautifulsoup4->unstructured==0.10.16->-r requirements.txt (line 3)) (2.5)\n",
      "Requirement already satisfied: MarkupSafe>=2.0 in /home/ec2-user/anaconda3/envs/pytorch_p310/lib/python3.10/site-packages (from jinja2->altair==4.0.0->-r requirements.txt (line 8)) (2.1.3)\n",
      "Requirement already satisfied: jsonschema-specifications>=2023.03.6 in /home/ec2-user/anaconda3/envs/pytorch_p310/lib/python3.10/site-packages (from jsonschema->altair==4.0.0->-r requirements.txt (line 8)) (2023.7.1)\n",
      "Requirement already satisfied: referencing>=0.28.4 in /home/ec2-user/anaconda3/envs/pytorch_p310/lib/python3.10/site-packages (from jsonschema->altair==4.0.0->-r requirements.txt (line 8)) (0.30.2)\n",
      "Requirement already satisfied: rpds-py>=0.7.1 in /home/ec2-user/anaconda3/envs/pytorch_p310/lib/python3.10/site-packages (from jsonschema->altair==4.0.0->-r requirements.txt (line 8)) (0.10.6)\n",
      "Requirement already satisfied: click in /home/ec2-user/anaconda3/envs/pytorch_p310/lib/python3.10/site-packages (from nltk->unstructured==0.10.16->-r requirements.txt (line 3)) (8.1.7)\n",
      "Requirement already satisfied: joblib in /home/ec2-user/anaconda3/envs/pytorch_p310/lib/python3.10/site-packages (from nltk->unstructured==0.10.16->-r requirements.txt (line 3)) (1.3.2)\n",
      "Requirement already satisfied: pytz>=2020.1 in /home/ec2-user/anaconda3/envs/pytorch_p310/lib/python3.10/site-packages (from pandas->altair==4.0.0->-r requirements.txt (line 8)) (2023.3.post1)\n",
      "Requirement already satisfied: mypy-extensions>=0.3.0 in /home/ec2-user/anaconda3/envs/pytorch_p310/lib/python3.10/site-packages (from typing-inspect<1,>=0.4.0->dataclasses-json->unstructured==0.10.16->-r requirements.txt (line 3)) (1.0.0)\n"
     ]
    }
   ],
   "source": [
    "!pip install -r requirements.txt"
   ]
  },
  {
   "cell_type": "markdown",
   "id": "ab536f45-a505-4341-83d4-a2cf64039b88",
   "metadata": {
    "tags": []
   },
   "source": [
    "### boto3创建 `bedrock` client"
   ]
  },
  {
   "cell_type": "code",
   "execution_count": 3,
   "id": "cdc42da1-a040-4de2-bf1e-ed08ef3ad5bd",
   "metadata": {
    "tags": []
   },
   "outputs": [],
   "source": [
    "import json\n",
    "import boto3\n",
    "import base64\n",
    "\n",
    "\n",
    "\n",
    "#Create the connection to Bedrock\n",
    "bedrock = boto3.client(\n",
    "    service_name='bedrock',\n",
    "    region_name='us-west-2', \n",
    ")\n",
    "\n",
    "bedrock_runtime = boto3.client(\n",
    "    service_name='bedrock-runtime',\n",
    "    region_name='us-west-2', \n",
    "    \n",
    ")"
   ]
  },
  {
   "cell_type": "markdown",
   "id": "69b918e6-78a1-4426-813a-0608892089bb",
   "metadata": {
    "tags": []
   },
   "source": [
    "### 列出可用模型版本"
   ]
  },
  {
   "cell_type": "code",
   "execution_count": 4,
   "id": "8d421313-4275-4ab2-824c-ebd543345574",
   "metadata": {
    "tags": []
   },
   "outputs": [
    {
     "data": {
      "text/plain": [
       "['amazon.titan-tg1-large',\n",
       " 'amazon.titan-embed-g1-text-02',\n",
       " 'amazon.titan-text-lite-v1:0:4k',\n",
       " 'amazon.titan-text-lite-v1',\n",
       " 'amazon.titan-text-express-v1:0:8k',\n",
       " 'amazon.titan-text-express-v1',\n",
       " 'amazon.titan-embed-text-v1:2:8k',\n",
       " 'amazon.titan-embed-text-v1',\n",
       " 'amazon.titan-embed-image-v1:0',\n",
       " 'amazon.titan-embed-image-v1',\n",
       " 'amazon.titan-image-generator-v1:0',\n",
       " 'amazon.titan-image-generator-v1',\n",
       " 'stability.stable-diffusion-xl',\n",
       " 'stability.stable-diffusion-xl-v0',\n",
       " 'stability.stable-diffusion-xl-v1:0',\n",
       " 'stability.stable-diffusion-xl-v1',\n",
       " 'ai21.j2-grande-instruct',\n",
       " 'ai21.j2-jumbo-instruct',\n",
       " 'ai21.j2-mid',\n",
       " 'ai21.j2-mid-v1',\n",
       " 'ai21.j2-ultra',\n",
       " 'ai21.j2-ultra-v1',\n",
       " 'anthropic.claude-instant-v1:2:100k',\n",
       " 'anthropic.claude-instant-v1',\n",
       " 'anthropic.claude-v2:0:18k',\n",
       " 'anthropic.claude-v2:0:100k',\n",
       " 'anthropic.claude-v2:1:18k',\n",
       " 'anthropic.claude-v2:1:200k',\n",
       " 'anthropic.claude-v2:1',\n",
       " 'anthropic.claude-v2',\n",
       " 'anthropic.claude-3-sonnet-20240229-v1:0',\n",
       " 'anthropic.claude-3-haiku-20240307-v1:0',\n",
       " 'cohere.command-text-v14:7:4k',\n",
       " 'cohere.command-text-v14',\n",
       " 'cohere.command-light-text-v14:7:4k',\n",
       " 'cohere.command-light-text-v14',\n",
       " 'cohere.embed-english-v3',\n",
       " 'cohere.embed-multilingual-v3',\n",
       " 'meta.llama2-13b-chat-v1:0:4k',\n",
       " 'meta.llama2-13b-chat-v1',\n",
       " 'meta.llama2-70b-chat-v1:0:4k',\n",
       " 'meta.llama2-70b-chat-v1',\n",
       " 'meta.llama2-13b-v1:0:4k',\n",
       " 'meta.llama2-13b-v1',\n",
       " 'meta.llama2-70b-v1:0:4k',\n",
       " 'meta.llama2-70b-v1',\n",
       " 'mistral.mistral-7b-instruct-v0:2',\n",
       " 'mistral.mixtral-8x7b-instruct-v0:1']"
      ]
     },
     "execution_count": 4,
     "metadata": {},
     "output_type": "execute_result"
    }
   ],
   "source": [
    "# List all foundation models\n",
    "all_llms = [ model['modelId'] for model in bedrock.list_foundation_models()['modelSummaries']]\n",
    "all_llms"
   ]
  },
  {
   "cell_type": "markdown",
   "id": "dfac6718-0a38-40c1-a31d-0bc6d8301e22",
   "metadata": {
    "tags": []
   },
   "source": [
    "### `Anthropic (Claude v3 (Sonnet))`"
   ]
  },
  {
   "cell_type": "code",
   "execution_count": 5,
   "id": "d357de4b-8c0d-4317-b14e-b099adbe722c",
   "metadata": {
    "tags": []
   },
   "outputs": [],
   "source": [
    "prompt_data = \"\"\"What L in LLM means\"\"\"\n",
    "\n",
    "body = {\n",
    "            \"anthropic_version\": \"bedrock-2023-05-31\",\n",
    "            \"max_tokens\": 1024,\n",
    "            \"messages\": [\n",
    "                 {\n",
    "                    \"role\": \"user\",\n",
    "                    \"content\": [\n",
    "                        {\n",
    "                            \"type\": \"text\",\n",
    "                            \"text\": prompt_data\n",
    "                        }\n",
    "                    ]\n",
    "                }\n",
    "            ],\n",
    "        }\n",
    "\n",
    "body = json.dumps(body) # Encode body as JSON string\n",
    "\n",
    "model_id = \"anthropic.claude-3-sonnet-20240229-v1:0\"\n",
    "accept = 'application/json'\n",
    "contentType = 'application/json'"
   ]
  },
  {
   "cell_type": "code",
   "execution_count": null,
   "id": "3c204dee-e262-4c40-becf-8af9255f6145",
   "metadata": {
    "tags": []
   },
   "outputs": [],
   "source": [
    "response = bedrock_runtime.invoke_model(body=body,\n",
    "                                        modelId=model_id, \n",
    "                                        accept=accept, \n",
    "                                        contentType=contentType)"
   ]
  },
  {
   "cell_type": "code",
   "execution_count": null,
   "id": "1d08df1f-3240-41db-9546-58b15585da57",
   "metadata": {},
   "outputs": [],
   "source": [
    "response_body = json.loads(response.get(\"body\").read())\n",
    "for output in response_body.get(\"content\", []):\n",
    "    print(output[\"text\"])"
   ]
  },
  {
   "cell_type": "markdown",
   "id": "4f983c62-5db4-4939-99cd-01ed5cf50ece",
   "metadata": {
    "tags": []
   },
   "source": [
    "### With `Mistral (mixtral-8x7b)`"
   ]
  },
  {
   "cell_type": "code",
   "execution_count": null,
   "id": "fc9fd10c-b83f-45c4-9e1a-9b55e1736354",
   "metadata": {
    "tags": []
   },
   "outputs": [],
   "source": [
    "prompt_data = \"\"\"<s>[INST]Craft a Python function to convert Celsius to Fahrenheit. If water boils at 100°C, what's that in Fahrenheit?[/INST]\"\"\"\n",
    "\n",
    "body = json.dumps({ \n",
    "    'prompt': prompt_data,\n",
    "    'max_tokens': 200,\n",
    "    'top_p': 0.9,\n",
    "    'temperature': 0.2,\n",
    "})\n",
    "\n",
    "\n",
    "modelId = 'mistral.mixtral-8x7b-instruct-v0:1'\n",
    "accept = 'application/json'\n",
    "contentType = 'application/json'"
   ]
  },
  {
   "cell_type": "code",
   "execution_count": null,
   "id": "a285cc8b-b9df-4339-8b69-8e9594a8e9af",
   "metadata": {
    "tags": []
   },
   "outputs": [],
   "source": [
    "response = bedrock_runtime.invoke_model(body=body.encode('utf-8'), # Encode to bytes\n",
    "                                        modelId=modelId, \n",
    "                                        accept=accept, \n",
    "                                        contentType=contentType)"
   ]
  },
  {
   "cell_type": "code",
   "execution_count": null,
   "id": "e1e49eef-0d1b-43c2-a6a6-5a8aca398db0",
   "metadata": {
    "tags": []
   },
   "outputs": [],
   "source": [
    "response_body = json.loads(response.get('body').read().decode('utf-8'))\n",
    "print(response_body.get('outputs')[0].get('text'))"
   ]
  },
  {
   "cell_type": "markdown",
   "id": "5656ce38-e3dd-492f-b035-8a708cbe34b3",
   "metadata": {
    "tags": []
   },
   "source": [
    "### 多模态图片输入 `Anthropic Claude v3 Models`"
   ]
  },
  {
   "cell_type": "code",
   "execution_count": null,
   "id": "79dcda90-954d-4c0c-92a2-cb2479f0adb1",
   "metadata": {
    "tags": []
   },
   "outputs": [],
   "source": [
    "with open(\"images/cat.png\", \"rb\") as image_file:\n",
    "    encoded_string = base64.b64encode(image_file.read())\n",
    "    base64_string = encoded_string.decode('utf-8')\n",
    "\n",
    "payload = {\n",
    "    \"modelId\": \"anthropic.claude-3-sonnet-20240229-v1:0\",\n",
    "    \"contentType\": \"application/json\",\n",
    "    \"accept\": \"application/json\",\n",
    "    \"body\": {\n",
    "        \"anthropic_version\": \"bedrock-2023-05-31\",\n",
    "        \"max_tokens\": 1000,\n",
    "        \"messages\": [\n",
    "            {\n",
    "                \"role\": \"user\",\n",
    "                \"content\": [\n",
    "                    {\n",
    "                        \"type\": \"image\",\n",
    "                        \"source\": {\n",
    "                            \"type\": \"base64\",\n",
    "                            \"media_type\": \"image/png\",\n",
    "                            \"data\": base64_string\n",
    "                        }\n",
    "                    },\n",
    "                    {\n",
    "                        \"type\": \"text\",\n",
    "                        \"text\": \"Write me a detailed description of this photo.\"\n",
    "                    }\n",
    "                ]\n",
    "            }\n",
    "        ]\n",
    "    }\n",
    "}\n",
    "\n",
    "# Convert the payload to bytes\n",
    "body_bytes = json.dumps(payload['body']).encode('utf-8')\n",
    "\n",
    "# Invoke the model\n",
    "model_id = \"anthropic.claude-3-sonnet-20240229-v1:0\"\n",
    "accept = 'application/json'\n",
    "contentType = 'application/json'\n",
    "\n",
    "response = bedrock_runtime.invoke_model(body=body_bytes,\n",
    "                                        modelId=model_id, \n",
    "                                        accept=accept, \n",
    "                                        contentType=contentType)\n"
   ]
  },
  {
   "cell_type": "code",
   "execution_count": null,
   "id": "ac3482f6-bfa5-4006-867e-e5a35a089e8d",
   "metadata": {
    "tags": []
   },
   "outputs": [],
   "source": [
    "response_body = json.loads(response.get('body').read().decode('utf-8'))\n",
    "print(response_body.get('content')[0].get('text'))"
   ]
  }
 ],
 "metadata": {
  "kernelspec": {
   "display_name": "conda_pytorch_p310",
   "language": "python",
   "name": "conda_pytorch_p310"
  },
  "language_info": {
   "codemirror_mode": {
    "name": "ipython",
    "version": 3
   },
   "file_extension": ".py",
   "mimetype": "text/x-python",
   "name": "python",
   "nbconvert_exporter": "python",
   "pygments_lexer": "ipython3",
   "version": "3.10.13"
  }
 },
 "nbformat": 4,
 "nbformat_minor": 5
}
