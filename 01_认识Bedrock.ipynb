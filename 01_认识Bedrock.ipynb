{
 "cells": [
  {
   "cell_type": "markdown",
   "id": "331d43e6-031d-4dc3-ba24-eeb453a14055",
   "metadata": {},
   "source": [
    "# 认识Bedrock"
   ]
  },
  {
   "cell_type": "markdown",
   "id": "a0d55a7d-204a-4738-904a-2da5a695fb82",
   "metadata": {},
   "source": [
    "![](images/bedrock_models.png)"
   ]
  },
  {
   "cell_type": "code",
   "execution_count": 85,
   "id": "c055ed95-60af-4a83-b3b1-2f5b53dc8770",
   "metadata": {
    "scrolled": true,
    "tags": []
   },
   "outputs": [],
   "source": [
    "# !pip install -r requirements.txt"
   ]
  },
  {
   "cell_type": "markdown",
   "id": "ab536f45-a505-4341-83d4-a2cf64039b88",
   "metadata": {
    "tags": []
   },
   "source": [
    "### boto3创建 `bedrock` client"
   ]
  },
  {
   "cell_type": "code",
   "execution_count": 1,
   "id": "cdc42da1-a040-4de2-bf1e-ed08ef3ad5bd",
   "metadata": {
    "tags": []
   },
   "outputs": [],
   "source": [
    "import json\n",
    "import boto3\n",
    "import base64\n",
    "\n",
    "# 指定要使用的配置文件名称\n",
    "profile_name = 'new'\n",
    "\n",
    "# 创建 AWS 客户端，并指定配置文件名称\n",
    "session = boto3.Session(profile_name=profile_name)\n",
    "\n",
    "\n",
    "#Create the connection to Bedrock\n",
    "bedrock = session.client(\n",
    "    service_name='bedrock',\n",
    "    region_name='us-west-2', \n",
    ")\n",
    "\n",
    "bedrock_runtime = session.client(\n",
    "    service_name='bedrock-runtime',\n",
    "    region_name='us-west-2', \n",
    "    \n",
    ")"
   ]
  },
  {
   "cell_type": "markdown",
   "id": "69b918e6-78a1-4426-813a-0608892089bb",
   "metadata": {
    "tags": []
   },
   "source": [
    "### 列出可用模型版本"
   ]
  },
  {
   "cell_type": "code",
   "execution_count": 98,
   "id": "8d421313-4275-4ab2-824c-ebd543345574",
   "metadata": {
    "tags": []
   },
   "outputs": [
    {
     "data": {
      "text/plain": [
       "['amazon.titan-tg1-large',\n",
       " 'amazon.titan-embed-g1-text-02',\n",
       " 'amazon.titan-text-lite-v1:0:4k',\n",
       " 'amazon.titan-text-lite-v1',\n",
       " 'amazon.titan-text-express-v1:0:8k',\n",
       " 'amazon.titan-text-express-v1',\n",
       " 'amazon.titan-embed-text-v1:2:8k',\n",
       " 'amazon.titan-embed-text-v1',\n",
       " 'amazon.titan-embed-image-v1:0',\n",
       " 'amazon.titan-embed-image-v1',\n",
       " 'amazon.titan-image-generator-v1:0',\n",
       " 'amazon.titan-image-generator-v1',\n",
       " 'stability.stable-diffusion-xl',\n",
       " 'stability.stable-diffusion-xl-v0',\n",
       " 'stability.stable-diffusion-xl-v1:0',\n",
       " 'stability.stable-diffusion-xl-v1',\n",
       " 'ai21.j2-grande-instruct',\n",
       " 'ai21.j2-jumbo-instruct',\n",
       " 'ai21.j2-mid',\n",
       " 'ai21.j2-mid-v1',\n",
       " 'ai21.j2-ultra',\n",
       " 'ai21.j2-ultra-v1',\n",
       " 'anthropic.claude-instant-v1:2:100k',\n",
       " 'anthropic.claude-instant-v1',\n",
       " 'anthropic.claude-v2:0:18k',\n",
       " 'anthropic.claude-v2:0:100k',\n",
       " 'anthropic.claude-v2:1:18k',\n",
       " 'anthropic.claude-v2:1:200k',\n",
       " 'anthropic.claude-v2:1',\n",
       " 'anthropic.claude-v2',\n",
       " 'anthropic.claude-3-sonnet-20240229-v1:0:28k',\n",
       " 'anthropic.claude-3-sonnet-20240229-v1:0:200k',\n",
       " 'anthropic.claude-3-sonnet-20240229-v1:0',\n",
       " 'anthropic.claude-3-haiku-20240307-v1:0:48k',\n",
       " 'anthropic.claude-3-haiku-20240307-v1:0:200k',\n",
       " 'anthropic.claude-3-haiku-20240307-v1:0',\n",
       " 'anthropic.claude-3-opus-20240229-v1:0',\n",
       " 'cohere.command-text-v14:7:4k',\n",
       " 'cohere.command-text-v14',\n",
       " 'cohere.command-light-text-v14:7:4k',\n",
       " 'cohere.command-light-text-v14',\n",
       " 'cohere.embed-english-v3:0:512',\n",
       " 'cohere.embed-english-v3',\n",
       " 'cohere.embed-multilingual-v3:0:512',\n",
       " 'cohere.embed-multilingual-v3',\n",
       " 'meta.llama2-13b-chat-v1:0:4k',\n",
       " 'meta.llama2-13b-chat-v1',\n",
       " 'meta.llama2-70b-chat-v1:0:4k',\n",
       " 'meta.llama2-70b-chat-v1',\n",
       " 'meta.llama2-13b-v1:0:4k',\n",
       " 'meta.llama2-13b-v1',\n",
       " 'meta.llama2-70b-v1:0:4k',\n",
       " 'meta.llama2-70b-v1',\n",
       " 'meta.llama3-8b-instruct-v1:0',\n",
       " 'meta.llama3-70b-instruct-v1:0',\n",
       " 'mistral.mistral-7b-instruct-v0:2',\n",
       " 'mistral.mixtral-8x7b-instruct-v0:1',\n",
       " 'mistral.mistral-large-2402-v1:0']"
      ]
     },
     "execution_count": 98,
     "metadata": {},
     "output_type": "execute_result"
    }
   ],
   "source": [
    "# List all foundation models\n",
    "all_llms = [ model['modelId'] for model in bedrock.list_foundation_models()['modelSummaries']]\n",
    "all_llms"
   ]
  },
  {
   "cell_type": "markdown",
   "id": "dfac6718-0a38-40c1-a31d-0bc6d8301e22",
   "metadata": {
    "tags": []
   },
   "source": [
    "### `Anthropic (Claude v3 (Opus))`"
   ]
  },
  {
   "cell_type": "code",
   "execution_count": 83,
   "id": "0c707a91-fa52-4d83-af02-e169b20dcf7f",
   "metadata": {},
   "outputs": [],
   "source": [
    "# Claude v3 (Opus)有强大的逻辑推理与解题能力"
   ]
  },
  {
   "cell_type": "code",
   "execution_count": 5,
   "id": "d357de4b-8c0d-4317-b14e-b099adbe722c",
   "metadata": {
    "tags": []
   },
   "outputs": [],
   "source": [
    "prompt_data = \"\"\"小圆的半径是3cm,大圆的半径是5cm,大圆与小圆的面积比是()。\n",
    "A.3:5\n",
    "B.9:25\n",
    "C.25:9\n",
    "D.5:3\"\"\"\n",
    "\n",
    "body = {\n",
    "            \"anthropic_version\": \"bedrock-2023-05-31\",\n",
    "            \"max_tokens\": 1024,\n",
    "            \"messages\": [\n",
    "                 {\n",
    "                    \"role\": \"user\",\n",
    "                    \"content\": [\n",
    "                        {\n",
    "                            \"type\": \"text\",\n",
    "                            \"text\": prompt_data\n",
    "                        }\n",
    "                    ]\n",
    "                }\n",
    "            ],\n",
    "        }\n",
    "\n",
    "body = json.dumps(body) # Encode body as JSON string\n",
    "\n",
    "model_id = \"anthropic.claude-3-opus-20240229-v1:0\"\n",
    "accept = 'application/json'\n",
    "contentType = 'application/json'"
   ]
  },
  {
   "cell_type": "code",
   "execution_count": 6,
   "id": "3c204dee-e262-4c40-becf-8af9255f6145",
   "metadata": {
    "tags": []
   },
   "outputs": [],
   "source": [
    "response = bedrock_runtime.invoke_model(body=body,\n",
    "                                        modelId=model_id, \n",
    "                                        accept=accept, \n",
    "                                        contentType=contentType)"
   ]
  },
  {
   "cell_type": "code",
   "execution_count": 7,
   "id": "1d08df1f-3240-41db-9546-58b15585da57",
   "metadata": {},
   "outputs": [
    {
     "name": "stdout",
     "output_type": "stream",
     "text": [
      "在这个问题中,我们需要找出大圆与小圆面积的比值。让我们一步步来解决:\n",
      "\n",
      "1. 首先,我们知道圆的面积公式是:A = πr², 其中A是面积,r是半径。\n",
      "\n",
      "2. 小圆的半径是3cm,所以小圆的面积是:\n",
      "   A₁ = π(3²) = 9π cm²\n",
      "\n",
      "3. 大圆的半径是5cm,所以大圆的面积是:\n",
      "   A₂ = π(5²) = 25π cm²\n",
      "\n",
      "4. 现在,我们可以计算大圆与小圆面积的比值:\n",
      "   A₂ : A₁ = 25π : 9π\n",
      "\n",
      "5. 我们可以约分π,得到:\n",
      "   25 : 9\n",
      "\n",
      "所以,正确答案是选项B: 25 : 9,也可以写作25/9或2.78 (保留两位小数)。\n"
     ]
    }
   ],
   "source": [
    "response_body = json.loads(response.get(\"body\").read())\n",
    "for output in response_body.get(\"content\", []):\n",
    "    print(output[\"text\"])"
   ]
  },
  {
   "cell_type": "markdown",
   "id": "4f983c62-5db4-4939-99cd-01ed5cf50ece",
   "metadata": {
    "tags": []
   },
   "source": [
    "### With `Mistral (mixtral-8x7b)`"
   ]
  },
  {
   "cell_type": "code",
   "execution_count": null,
   "id": "35cf22e1-3b39-405d-808c-0ff05a2ebe84",
   "metadata": {},
   "outputs": [],
   "source": [
    "# Mistral (mixtral-8x7b) 是社区模型中performance突出的模型，这里我们使用mixtral-8x7b"
   ]
  },
  {
   "cell_type": "code",
   "execution_count": 100,
   "id": "fc9fd10c-b83f-45c4-9e1a-9b55e1736354",
   "metadata": {
    "tags": []
   },
   "outputs": [
    {
     "name": "stdout",
     "output_type": "stream",
     "text": [
      "以下是一个德语B1水平的学习大纲,供参考:\n",
      "\n",
      "一、语法 (Grammatik)\n",
      "1. 复习A1-A2级语法知识\n",
      "2. 时态:现在完成时,过去完成时,将来时\n",
      "3. 虚拟语气(Konjunktiv II)\n",
      "4. 被动语态(Passiv)\n",
      "5. 关系从句(Relativsätze)\n",
      "6. 情态动词的过去式和过去完成时\n",
      "7. 带zu不定式\n",
      "8. 第二虚拟式\n",
      "\n",
      "二、词汇 (Wortschatz)\n",
      "1. 扩充日常生活、工作、学习、旅游等主题的词汇量\n",
      "2. 常见词汇搭配和用法\n",
      "3. 常见缩略词和习语\n",
      "4. 近义词和反义词的区分\n",
      "\n",
      "三、阅读 (Lesen)\n",
      "1. 阅读中等难度的文章,如新闻报道、个人博客、简单的文学作品等\n",
      "2. 理解文章主旨,把握关键信息\n",
      "3. 推断生词词义,理解句子结构\n",
      "\n",
      "四、听力 (Hören)\n",
      "1. 听懂日常对话、广播节目、电视新闻等\n",
      "2. 理解说话者的观点和态度\n",
      "3. 听写练习,提高听力理解和笔记能力\n",
      "\n",
      "五、口语 (Sprechen)\n",
      "1. 就日常话题进行对话和讨论,表达个人观点\n",
      "2. 描述个人经历,讲述简单故事\n",
      "3. 进行角色扮演,模拟日常情景\n",
      "4. 练习德语发音和语调\n",
      "\n",
      "六、写作 (Schreiben)\n",
      "1. 写作个人信件、电子邮件\n",
      "2. 描述图表、图像\n",
      "3. 撰写短文,如记叙文、议论文等\n",
      "4. 书面总结听到或读到的信息\n",
      "\n",
      "七、文化 (Kultur)\n",
      "1. 了解德国的地理、历史、政治等基本知识\n",
      "2. 了解德国的生活方式、习俗和价值观\n",
      "3. 学习德国文学、音乐、艺术等\n",
      "\n",
      "八、考试准备 (Prüfungsvorbereitung)\n",
      "1. 了解德语B1考试的考试形式和评分标准\n",
      "2. 进行模拟考试,熟悉考试流程\n",
      "3. 针对薄弱环节加强训练,提高考试成绩\n",
      "\n",
      "注意:以上学习大纲仅供参考,具体学习计划需根据个人情况灵活调整。持之以恒的练习和良好的学习习惯是提高德语水平的关键。祝学习顺利!\n"
     ]
    }
   ],
   "source": [
    "prompt_data = \"\"\"写一个德语B1的学习大纲\"\"\"\n",
    "\n",
    "body = {\n",
    "            \"anthropic_version\": \"bedrock-2023-05-31\",\n",
    "            \"max_tokens\": 1024,\n",
    "            \"messages\": [\n",
    "                 {\n",
    "                    \"role\": \"user\",\n",
    "                    \"content\": [\n",
    "                        {\n",
    "                            \"type\": \"text\",\n",
    "                            \"text\": prompt_data\n",
    "                        }\n",
    "                    ]\n",
    "                }\n",
    "            ],\n",
    "        }\n",
    "\n",
    "body = json.dumps(body) # Encode body as JSON string\n",
    "\n",
    "model_id = \"anthropic.claude-3-sonnet-20240229-v1:0\"\n",
    "accept = 'application/json'\n",
    "contentType = 'application/json'\n",
    "\n",
    "response = bedrock_runtime.invoke_model(body=body.encode('utf-8'), # Encode to bytes\n",
    "                                        modelId=modelId, \n",
    "                                        accept=accept, \n",
    "                                        contentType=contentType)\n",
    "\n",
    "response_body = json.loads(response.get('body').read().decode('utf-8'))\n",
    "\n",
    "for output in response_body.get(\"content\", []):\n",
    "    print(output[\"text\"])\n"
   ]
  },
  {
   "cell_type": "code",
   "execution_count": 97,
   "id": "e1e49eef-0d1b-43c2-a6a6-5a8aca398db0",
   "metadata": {
    "tags": []
   },
   "outputs": [
    {
     "name": "stdout",
     "output_type": "stream",
     "text": [
      "The word that best fits the blank is \"egalitarian\".\n",
      "\n",
      "Egalitarian means believing in or based on the principle that all people are equal and deserve equal rights and opportunities. If Clark was egalitarian as a theater director, it suggests he treated everyone in the cast and crew as equals, rather than being an authoritarian who demanded obedience and maintained strict hierarchies.\n",
      "\n",
      "The other options don't fit as well in the context:\n",
      "\n",
      "- Histrionic means excessively dramatic or emotional, which doesn't directly contrast with being authoritarian.\n",
      "- Megalomaniacal means having delusions of grandeur or an obsessive desire for power, which aligns more with authoritarianism than contrasts with it.\n",
      "- Indolent means lazy, which isn't a clear opposite of authoritarian.\n",
      "- Charismatic means charming and able to inspire devotion in others, which, while a positive trait, doesn't necessarily imply a contrast with authoritarianism.\n",
      "\n",
      "Therefore, \"egalitarian\" is the best choice to fill in the blank, as it presents a leadership style that would be surprising for people who expect theater directors to be authoritarian.\n"
     ]
    }
   ],
   "source": [
    "for output in response_body.get(\"content\", []):\n",
    "    print(output[\"text\"])"
   ]
  },
  {
   "cell_type": "markdown",
   "id": "5656ce38-e3dd-492f-b035-8a708cbe34b3",
   "metadata": {
    "tags": []
   },
   "source": [
    "### 多模态图片输入 `Anthropic Claude v3 Haiku`"
   ]
  },
  {
   "cell_type": "code",
   "execution_count": 84,
   "id": "4b9a286c-15fe-4d46-86ab-3d7b63ee29b9",
   "metadata": {},
   "outputs": [],
   "source": [
    "# Claude v3 Haiku成本极低。推理很快，是支持多模态输入的性价比最高的模型"
   ]
  },
  {
   "cell_type": "code",
   "execution_count": 5,
   "id": "79dcda90-954d-4c0c-92a2-cb2479f0adb1",
   "metadata": {
    "tags": []
   },
   "outputs": [],
   "source": [
    "with open(\"images/math.png\", \"rb\") as image_file:\n",
    "    encoded_string = base64.b64encode(image_file.read())\n",
    "    base64_string = encoded_string.decode('utf-8')\n",
    "\n",
    "payload = {\n",
    "    \"modelId\": \"anthropic.claude-3-haiku-20240307-v1:0\",\n",
    "    \"contentType\": \"application/json\",\n",
    "    \"accept\": \"application/json\",\n",
    "    \"body\": {\n",
    "        \"anthropic_version\": \"bedrock-2023-05-31\",\n",
    "        \"max_tokens\": 1000,\n",
    "        \"messages\": [\n",
    "            {\n",
    "                \"role\": \"user\",\n",
    "                \"content\": [\n",
    "                    {\n",
    "                        \"type\": \"image\",\n",
    "                        \"source\": {\n",
    "                            \"type\": \"base64\",\n",
    "                            \"media_type\": \"image/png\",\n",
    "                            \"data\": base64_string\n",
    "                        }\n",
    "                    },\n",
    "                    {\n",
    "                        \"type\": \"text\",\n",
    "                        \"text\": \"As shown in the figure, in the rectangle quadrilateral ABCD, if E is a point on the edge AB, DAE folded along the crease DE to DA'E, Please independently assess the correctness of the following three statements and provide a complete analysis: \\n1. The trajectory of the projection of point A' is F, AF is perpendicular to DE;\\n2. AF intersects DE at O, When E varies, the trajectory of O is a circle with AD as the diameter;\\n3. The trajectory of point A' is a circle with O as the center and AO as the radius;\"\n",
    "                    }\n",
    "                ]\n",
    "            }\n",
    "        ]\n",
    "    }\n",
    "}\n",
    "\n",
    "# Convert the payload to bytes\n",
    "body_bytes = json.dumps(payload['body']).encode('utf-8')\n",
    "\n",
    "# Invoke the model\n",
    "model_id = \"anthropic.claude-3-opus-20240229-v1:0\"\n",
    "accept = 'application/json'\n",
    "contentType = 'application/json'\n",
    "\n",
    "response = bedrock_runtime.invoke_model(body=body_bytes,\n",
    "                                        modelId=model_id, \n",
    "                                        accept=accept, \n",
    "                                        contentType=contentType)\n"
   ]
  },
  {
   "cell_type": "code",
   "execution_count": 6,
   "id": "ac3482f6-bfa5-4006-867e-e5a35a089e8d",
   "metadata": {
    "tags": []
   },
   "outputs": [
    {
     "name": "stdout",
     "output_type": "stream",
     "text": [
      "Let's analyze each statement independently:\n",
      "\n",
      "1. \"The trajectory of the projection of point A' is F, AF is perpendicular to DE.\"\n",
      "This statement is correct. As the point E moves along AB, the folding line DE also moves. The point A' is the reflection of point A across the folding line DE. By the properties of reflections, the line segment AA' is always perpendicular to the folding line DE, and its midpoint lies on DE. The trajectory of point F, which is the projection of A' onto AD, forms a line segment perpendicular to DE.\n",
      "\n",
      "2. \"AF intersects DE at O. When E varies, the trajectory of O is a circle with AD as the diameter.\"\n",
      "This statement is correct. Let's prove it using the inscribed angle theorem. As E moves along AB, the angle ∠ADE remains a right angle (90°). Therefore, points A, D, and E always form a right triangle with ∠ADE = 90°. The point O, being the intersection of AF and DE, is the midpoint of the hypotenuse AD in this right triangle. According to the inscribed angle theorem, any angle inscribed in a semicircle is a right angle. Consequently, as E varies, the point O traces a semicircle with AD as its diameter. Since the situation is symmetrical on both sides of AD, the complete trajectory of O is a circle with AD as the diameter.\n",
      "\n",
      "3. \"The trajectory of point A' is a circle with O as the center and AO as the radius.\"\n",
      "This statement is also correct. We can prove it using the properties of reflections. As established earlier, the point A' is always the reflection of point A across the folding line DE. Therefore, the line segment AA' is always perpendicular to DE, and DE is the perpendicular bisector of AA'. Since O is the midpoint of AD, it is also the midpoint of AA'. As E varies and DE changes, the position of A' changes accordingly, but the distance A'O remains equal to AO. Thus, the trajectory of point A' is a circle with O as the center and AO as the radius.\n",
      "\n",
      "In conclusion, all three statements are correct, and their validity can be demonstrated using geometric principles such as the properties of reflections and the inscribed angle theorem.\n"
     ]
    }
   ],
   "source": [
    "response_body = json.loads(response.get('body').read().decode('utf-8'))\n",
    "print(response_body.get('content')[0].get('text'))"
   ]
  },
  {
   "cell_type": "code",
   "execution_count": null,
   "id": "957114e3-e2a7-4e9a-8d10-6c472da868c6",
   "metadata": {},
   "outputs": [],
   "source": []
  }
 ],
 "metadata": {
  "kernelspec": {
   "display_name": "Python 3 (ipykernel)",
   "language": "python",
   "name": "python3"
  },
  "language_info": {
   "codemirror_mode": {
    "name": "ipython",
    "version": 3
   },
   "file_extension": ".py",
   "mimetype": "text/x-python",
   "name": "python",
   "nbconvert_exporter": "python",
   "pygments_lexer": "ipython3",
   "version": "3.11.7"
  }
 },
 "nbformat": 4,
 "nbformat_minor": 5
}
