{
 "cells": [
  {
   "cell_type": "markdown",
   "metadata": {},
   "source": [
    "## Building Q&A application using Knowledge Bases for Amazon Bedrock - Retrieve API"
   ]
  },
  {
   "cell_type": "markdown",
   "metadata": {
    "tags": []
   },
   "source": [
    "### Context\n",
    "\n",
    "In this notebook, we will dive deep into building Q&A application using Knowledge Bases for Amazon Bedrock - Retrieve API. Here, we will query the knowledge base to get the desired number of document chunks based on similarity search. We will then augment the prompt with relevant documents and query which will go as input to Anthropic Claude V2 for generating response.\n",
    "\n",
    "With a knowledge base, you can securely connect foundation models (FMs) in Amazon Bedrock to your company\n",
    "data for Retrieval Augmented Generation (RAG). Access to additional data helps the model generate more relevant,\n",
    "context-speciﬁc, and accurate responses without continuously retraining the FM. All information retrieved from\n",
    "knowledge bases comes with source attribution to improve transparency and minimize hallucinations. For more information on creating a knowledge base using console, please refer to this [post](!https://docs.aws.amazon.com/bedrock/latest/userguide/knowledge-base.html).\n",
    "\n",
    "### Pattern\n",
    "\n",
    "We can implement the solution using Retreival Augmented Generation (RAG) pattern. RAG retrieves data from outside the language model (non-parametric) and augments the prompts by adding the relevant retrieved data in context. Here, we are performing RAG effectively on the knowledge base created using console/sdk. \n",
    "\n",
    "### Pre-requisite\n",
    "\n",
    "Before being able to answer the questions, the documents must be processed and ingested in vector database.\n",
    "\n",
    "1. Load the documents into the knowledge base by connecting your s3 bucket (data source). \n",
    "2. Ingestion - Knowledge bases will split them into smaller chunks (based on the strategy selected), generate embeddings and store it in the associated vectore store.\n",
    "\n",
    "![data_ingestion](./images/data_ingestion.png)\n",
    "\n",
    "\n",
    "#### Notebook Walkthrough\n",
    "\n",
    "\n",
    "\n",
    "For our notebook we will use the `Retreive API` provided by Knowledge Bases for Amazon Bedrock which converts user queries into\n",
    "embeddings, searches the knowledge base, and returns the relevant results, giving you more control to build custom\n",
    "workﬂows on top of the semantic search results. The output of the `Retrieve API` includes the the `retrieved text chunks`, the `location type` and `URI` of the source data, as well as the relevance `scores` of the retrievals. \n",
    "\n",
    "\n",
    "We will then use the text chunks being generated and augment it with the original prompt and pass it through the `anthropic.claude-v2` model using prompt engineering patterns based on your use case.\n",
    "    \n",
    "\n",
    "### USE CASE:\n",
    "\n",
    "#### Dataset\n",
    "\n",
    "In this example, you will use several years of Amazon's Letter to Shareholders as a text corpus to perform Q&A on. This data is already ingested into the Knowledge Bases for Amazon Bedrock. You will need the `knowledge base id` to run this example.\n",
    "In your specific use case, you can sync different files for different domain topics and query this notebook in the same manner to evaluate model responses using the retrieve API from knowledge bases.\n",
    "\n",
    "\n",
    "### Python 3.10\n",
    "\n",
    "⚠  For this lab we need to run the notebook based on a Python 3.10 runtime. ⚠\n",
    "\n",
    "If you carry out the workshop from your local environment outside of the Amazon SageMaker studio please make sure you are running a Python runtime > 3.10.\n",
    "\n",
    "### Setup\n",
    "\n",
    "To run this notebook you would need to install following packages.\n"
   ]
  },
  {
   "cell_type": "markdown",
   "metadata": {},
   "source": [
    "### Follow the steps below to initiate the bedrock client:\n",
    "\n",
    "1. Import the necessary libraries, along with langchain for bedrock model selection, llama index to store the service context containing the llm and embedding model instances. We will use this service context later in the notebook for evaluating the responses from our Q&A application. \n",
    "\n",
    "2. Initialize `anthropic.claude-v2` as our large language model to perform query completions using the RAG pattern with the given knowledge base, once we get all text chunk searches through the `retrieve` API."
   ]
  },
  {
   "cell_type": "code",
   "execution_count": 2,
   "metadata": {
    "tags": []
   },
   "outputs": [],
   "source": [
    "import boto3\n",
    "import pprint\n",
    "from botocore.client import Config\n",
    "from langchain.llms.bedrock import Bedrock\n",
    "\n",
    "pp = pprint.PrettyPrinter(indent=2)\n",
    "\n",
    "bedrock_config = Config(connect_timeout=120, read_timeout=120, retries={'max_attempts': 0})\n",
    "bedrock_client = boto3.client('bedrock-runtime')\n",
    "bedrock_agent_client = boto3.client(\"bedrock-agent-runtime\",\n",
    "                                    config=bedrock_config)\n",
    "\n",
    "model_kwargs_claude = {\n",
    "                            \"temperature\": 0,\n",
    "                            \"top_k\": 10,\n",
    "                            \"max_tokens_to_sample\": 3000\n",
    "                        }\n",
    "\n",
    "llm = Bedrock(model_id=\"anthropic.claude-v2\",\n",
    "              model_kwargs=model_kwargs_claude,\n",
    "              client = bedrock_client,)"
   ]
  },
  {
   "cell_type": "markdown",
   "metadata": {},
   "source": [
    "### Retrieve API: Process flow \n",
    "\n",
    "Define a retrieve function that calls the `Retreive API` provided by Knowledge Bases for Amazon Bedrock which converts user queries into\n",
    "embeddings, searches the knowledge base, and returns the relevant results, giving you more control to build custom\n",
    "workﬂows on top of the semantic search results. The output of the `Retrieve API` includes the the `retrieved text chunks`, the `location type` and `URI` of the source data, as well as the relevance `scores` of the retrievals. \n",
    "\n",
    "![retrieveAPI](./images/retrieveAPI.png)\n",
    "\n"
   ]
  },
  {
   "cell_type": "code",
   "execution_count": 3,
   "metadata": {
    "tags": []
   },
   "outputs": [],
   "source": [
    "def retrieve(query, kbId, numberOfResults=5):\n",
    "    \n",
    "    response = bedrock_agent_client.retrieve(\n",
    "                                                retrievalQuery= {\n",
    "                                                    'text': query\n",
    "                                                },\n",
    "                                                knowledgeBaseId=kbId,\n",
    "                                                retrievalConfiguration= {\n",
    "                                                    'vectorSearchConfiguration': {\n",
    "                                                        'numberOfResults': numberOfResults\n",
    "                                                    }\n",
    "                                                }\n",
    "                                            )\n",
    "    \n",
    "    return response"
   ]
  },
  {
   "cell_type": "markdown",
   "metadata": {},
   "source": [
    "#### Initialize your Knowledge base id before querying responses from the initialized LLM"
   ]
  },
  {
   "cell_type": "code",
   "execution_count": 4,
   "metadata": {
    "tags": []
   },
   "outputs": [],
   "source": [
    "kb_id = \"U4DWFE7LSJ\" # replace it with your Knowledge base id."
   ]
  },
  {
   "cell_type": "markdown",
   "metadata": {},
   "source": [
    "Next, we will call the `retreive API`, and pass `knowledge base id`, `number of results` and `query` as paramters. \n",
    "\n",
    "`score`: You can view the associated score of each of the text chunk that was returned which depicts its correlation to the query in terms of how closely it matches it."
   ]
  },
  {
   "cell_type": "code",
   "execution_count": 5,
   "metadata": {
    "collapsed": false,
    "jupyter": {
     "outputs_hidden": false
    },
    "tags": []
   },
   "outputs": [
    {
     "name": "stdout",
     "output_type": "stream",
     "text": [
      "[ { 'content': { 'text': '固德威(688390)_公司公告_固德威：2023年半年度报告新浪财经_新浪网                            '\n",
      "                         '财经首页\\xa0|\\xa0新浪首页\\xa0|\\xa0新浪导航              热点推荐 '\n",
      "                         '·自选股-轻松管理您的千只股票 ·金融e路通-理财投资更轻松 ·行情中心-通往财富之门          '\n",
      "                         '财经首页 股票 基金 滚动 公告 大盘 个股 新股 权证 报告 环球市场 博客财经博客股票博客 股票吧 '\n",
      "                         '港股 美股 行情中心 自选股        上证指数: 0000.00\\u30000.00\\u3000'\n",
      "                         '00.00亿元\\u3000|\\u3000深圳成指: 0000.00\\u30000.00\\u3000'\n",
      "                         '00.00亿元\\u3000|\\u3000沪深300: 0000.00\\u30000.00\\u3000'\n",
      "                         '00.00亿元                   读取中,请稍候00-00 00:00:00     '\n",
      "                         '--.--0.00 '\n",
      "                         '(0.000%)昨收盘:0.000今开盘:0.000最高价:0.000最低价:0.000 '\n",
      "                         '成交额:0成交量:0买入价:0.000卖出价:0.000 '\n",
      "                         '市盈率:0.000收益率:0.00052周最高:0.00052周最低:0.000              '\n",
      "                         '资讯与公告： 个股资讯 公司公告 年度报告 中期报告 一季度报告 三季度报告       '\n",
      "                         '固德威：2023年半年度报告\\t\\t\\t\\t\\r'\n",
      "                         ' \\t\\t\\t\\t\\t（下载公告）      公告日期:2023-08-30      '\n",
      "                         '公司代码：688390                                          '\n",
      "                         '公司简称：固德威固德威技术股份有限公司2023年半年度报告重要提示一、 '\n",
      "                         '本公司董事会、监事会及董事、监事、高级管理人员保证半年度报告内容的真实性、准确性、完整性，不存在虚假记载、误导性陈述或重大遗漏，并承担个别和连带的法律责任。二、 '\n",
      "                         '重大风险提示公司已在本报告中详细描述可能存在的相关风险，具体内容详见本报告第三节“管理层讨论与分析”之“五、风险因素”相关内容。三、 '\n",
      "                         '公司全体董事出席董事会会议。四、 本半年度报告未经审计。五、 '\n",
      "                         '公司负责人黄敏、主管会计工作负责人都进利及会计机构负责人（会计主管人员）李晓凤声明：保证半年度报告中财务报告的真实、准确、完整。'},\n",
      "    'location': { 's3Location': { 'uri': 's3://anbeialb/file_fc291e42-dc8b-4e39-b0bc-b65cf2557413.txt'},\n",
      "                  'type': 'S3'},\n",
      "    'score': 0.79349196},\n",
      "  { 'content': { 'text': '2022 年年度报告    1 / 256      '\n",
      "                         '公司代码：688390                                                    '\n",
      "                         '公司简称：固德威                                                                                        '\n",
      "                         '固德威技术股份有限公司    2022 '\n",
      "                         '年年度报告                                                        '\n",
      "                         '2023 年 4 月        2022 年年度报告    2 / 256      重要提示    '\n",
      "                         '一、 本公司董事会、监事会及董事、监事、高级管理人员保证年度报告内容的真实性、准确性、   '\n",
      "                         '完整性，不存在虚假记载、误导性陈述或重大遗漏，并承担个别和连带的法律责任。        二、 '\n",
      "                         '公司上市时未盈利且尚未实现盈利    □是 √否         三、 重大风险提示    '\n",
      "                         '公司已在本报告中详细描述可能存在的相关风险，具体内容详见本报告第三节“管理层讨论   '\n",
      "                         '与分析”之“四、风险因素”相关内容。        四、 公司全体董事出席董事会会议。        '\n",
      "                         '五、 中证天通会计师事务所（特殊普通合伙）为本公司出具了标准无保留意见的审计报告。        六、 '\n",
      "                         '公司负责人黄敏、主管会计工作负责人都进利及会计机构负责人（会计主管人员）李晓凤声   '\n",
      "                         '明：保证年度报告中财务报告的真实、准确、完整。        七、 '\n",
      "                         '董事会决议通过的本报告期利润分配预案或公积金转增股本预案    '\n",
      "                         '公司拟向全体股东每10股派发现金红利16元（含税）。截至2022年12月31日，公司总股本   '\n",
      "                         '123,200,000股，以此计算合计拟派发现金红利197,120,000元（含税），占公司2022年度合并报表   '\n",
      "                         '归属于上市公司股东净利润的30.36%。公司拟以资本公积向全体股东每10股转增4股。截至2022年   '\n",
      "                         '12月31日，公司总股本123,200,000股，合计转增49,280,000股，转增后公司总股本增加至172,480,000   '\n",
      "                         '股。    本事项已经公司第三届董事会第十一次会议审议通过，尚需提交公司股东大会审议。'},\n",
      "    'location': { 's3Location': { 'uri': 's3://anbeialb/file_8ccbfc6c-8944-4914-8a24-63e7bc562ee5.pdf'},\n",
      "                  'type': 'S3'},\n",
      "    'score': 0.7884918},\n",
      "  { 'content': { 'text': '（或股东权益）总计   4,327,906,834.19 3,178,819,914.06    '\n",
      "                         '公司负责人：黄敏         主管会计工作负责人：都进利         '\n",
      "                         '会计机构负责人：李晓凤            合并利润表    2022 年 1—12 月    '\n",
      "                         '编制单位:固德威技术股份有限公司    单位:元  币种:人民币    项目 附注 2022 年度 '\n",
      "                         '2021 年度    一、营业总收入  4,710,236,539.05 '\n",
      "                         '2,678,113,764.75    其中：营业收入 七、61 4,710,236,539.05 '\n",
      "                         '2,678,113,764.75    利息收入       已赚保费       '\n",
      "                         '手续费及佣金收入       二、营业总成本  3,983,021,670.44 '\n",
      "                         '2,385,164,998.35    其中：营业成本 七、61 3,181,528,931.53 '\n",
      "                         '1,830,169,171.82    利息支出       手续费及佣金支出       '\n",
      "                         '退保金       赔付支出净额       提取保险责任准备金净额       '\n",
      "                         '保单红利支出       分保费用       税金及附加 七、62 12,749,387.85 '\n",
      "                         '8,276,603.86    销售费用 七、63 339,223,766.88 '\n",
      "                         '210,819,470.59    管理费用 七、64 196,611,455.00 '\n",
      "                         '105,894,714.12    研发费用 七、65 347,822,537.83 '\n",
      "                         '188,465,218.24         2022 年年度报告     133    项目 附注 '\n",
      "                         '2022 年度 2021 年度'},\n",
      "    'location': { 's3Location': { 'uri': 's3://anbeialb/file_8ccbfc6c-8944-4914-8a24-63e7bc562ee5.pdf'},\n",
      "                  'type': 'S3'},\n",
      "    'score': 0.76914275}]\n"
     ]
    }
   ],
   "source": [
    "query = \"固德威2023营收情况?\"\n",
    "response = retrieve(query, kb_id, 3)\n",
    "retrievalResults = response['retrievalResults']\n",
    "pp.pprint(retrievalResults)"
   ]
  },
  {
   "cell_type": "markdown",
   "metadata": {},
   "source": [
    "### Prompt specific to the model to personalize responses \n",
    "\n",
    "Here, we will use the specific prompt below for the model to act as a financial advisor AI system that will provide answers to questions by using fact based and statistical information when possible. We will provide the `Retrieve API` responses from above as a part of the `{context_str}` in the prompt for the model to refer to, along with the user `query`.  "
   ]
  },
  {
   "cell_type": "code",
   "execution_count": 6,
   "metadata": {
    "tags": []
   },
   "outputs": [],
   "source": [
    "from langchain.prompts import PromptTemplate\n",
    "\n",
    "PROMPT_TEMPLATE = \"\"\"\n",
    "                    Human: You are a financial advisor AI system, and provides answers to questions by using fact based and statistical information when possible. \n",
    "                    Use the following pieces of information to provide a concise answer to the question enclosed in <question> tags. \n",
    "                    If you don't know the answer, just say that you don't know, don't try to make up an answer.\n",
    "                    <context>\n",
    "                    {context_str}\n",
    "                    </context>\n",
    "\n",
    "                    <question>\n",
    "                    {query_str}\n",
    "                    </question>\n",
    "\n",
    "                    The response should be specific and use statistics or numbers when possible.\n",
    "\n",
    "                    Assistant:\"\"\"\n",
    "\n",
    "claude_prompt = PromptTemplate(template=PROMPT_TEMPLATE, \n",
    "                               input_variables=[\"context_str\",\"query_str\"])"
   ]
  },
  {
   "cell_type": "markdown",
   "metadata": {},
   "source": [
    "### Extract the text chunks from the retrieveAPI response\n",
    "\n",
    "In the cell below, we will fetch the context from the retrieval results."
   ]
  },
  {
   "cell_type": "code",
   "execution_count": 7,
   "metadata": {
    "tags": []
   },
   "outputs": [],
   "source": [
    "# fetch context from the response\n",
    "def get_contexts(retrievalResults):\n",
    "    \n",
    "    contexts = []\n",
    "    for retrievedResult in retrievalResults: \n",
    "        contexts.append(retrievedResult['content']['text'])\n",
    "        \n",
    "    return contexts"
   ]
  },
  {
   "cell_type": "code",
   "execution_count": 8,
   "metadata": {
    "tags": []
   },
   "outputs": [
    {
     "name": "stdout",
     "output_type": "stream",
     "text": [
      "[ '固德威(688390)_公司公告_固德威：2023年半年度报告新浪财经_新浪网                            财经首页\\xa0'\n",
      "  '|\\xa0新浪首页\\xa0|\\xa0新浪导航              热点推荐 ·自选股-轻松管理您的千只股票 ·金融e路通-理财投资更轻松 '\n",
      "  '·行情中心-通往财富之门          财经首页 股票 基金 滚动 公告 大盘 个股 新股 权证 报告 环球市场 博客财经博客股票博客 股票吧 '\n",
      "  '港股 美股 行情中心 自选股        上证指数: 0000.00\\u30000.00\\u300000.00亿元\\u3000|\\u3000'\n",
      "  '深圳成指: 0000.00\\u30000.00\\u300000.00亿元\\u3000|\\u3000沪深300: 0000.00\\u3000'\n",
      "  '0.00\\u300000.00亿元                   读取中,请稍候00-00 00:00:00     --.--0.00 '\n",
      "  '(0.000%)昨收盘:0.000今开盘:0.000最高价:0.000最低价:0.000 成交额:0成交量:0买入价:0.000卖出价:0.000 '\n",
      "  '市盈率:0.000收益率:0.00052周最高:0.00052周最低:0.000              资讯与公告： 个股资讯 公司公告 年度报告 '\n",
      "  '中期报告 一季度报告 三季度报告       固德威：2023年半年度报告\\t\\t\\t\\t\\r'\n",
      "  ' \\t\\t\\t\\t\\t（下载公告）      公告日期:2023-08-30      '\n",
      "  '公司代码：688390                                          '\n",
      "  '公司简称：固德威固德威技术股份有限公司2023年半年度报告重要提示一、 '\n",
      "  '本公司董事会、监事会及董事、监事、高级管理人员保证半年度报告内容的真实性、准确性、完整性，不存在虚假记载、误导性陈述或重大遗漏，并承担个别和连带的法律责任。二、 '\n",
      "  '重大风险提示公司已在本报告中详细描述可能存在的相关风险，具体内容详见本报告第三节“管理层讨论与分析”之“五、风险因素”相关内容。三、 '\n",
      "  '公司全体董事出席董事会会议。四、 本半年度报告未经审计。五、 '\n",
      "  '公司负责人黄敏、主管会计工作负责人都进利及会计机构负责人（会计主管人员）李晓凤声明：保证半年度报告中财务报告的真实、准确、完整。',\n",
      "  '2022 年年度报告    1 / 256      '\n",
      "  '公司代码：688390                                                    '\n",
      "  '公司简称：固德威                                                                                        '\n",
      "  '固德威技术股份有限公司    2022 '\n",
      "  '年年度报告                                                        2023 年 4 '\n",
      "  '月        2022 年年度报告    2 / 256      重要提示    一、 '\n",
      "  '本公司董事会、监事会及董事、监事、高级管理人员保证年度报告内容的真实性、准确性、   '\n",
      "  '完整性，不存在虚假记载、误导性陈述或重大遗漏，并承担个别和连带的法律责任。        二、 公司上市时未盈利且尚未实现盈利    □是 '\n",
      "  '√否         三、 重大风险提示    公司已在本报告中详细描述可能存在的相关风险，具体内容详见本报告第三节“管理层讨论   '\n",
      "  '与分析”之“四、风险因素”相关内容。        四、 公司全体董事出席董事会会议。        五、 '\n",
      "  '中证天通会计师事务所（特殊普通合伙）为本公司出具了标准无保留意见的审计报告。        六、 '\n",
      "  '公司负责人黄敏、主管会计工作负责人都进利及会计机构负责人（会计主管人员）李晓凤声   明：保证年度报告中财务报告的真实、准确、完整。        '\n",
      "  '七、 董事会决议通过的本报告期利润分配预案或公积金转增股本预案    '\n",
      "  '公司拟向全体股东每10股派发现金红利16元（含税）。截至2022年12月31日，公司总股本   '\n",
      "  '123,200,000股，以此计算合计拟派发现金红利197,120,000元（含税），占公司2022年度合并报表   '\n",
      "  '归属于上市公司股东净利润的30.36%。公司拟以资本公积向全体股东每10股转增4股。截至2022年   '\n",
      "  '12月31日，公司总股本123,200,000股，合计转增49,280,000股，转增后公司总股本增加至172,480,000   股。    '\n",
      "  '本事项已经公司第三届董事会第十一次会议审议通过，尚需提交公司股东大会审议。',\n",
      "  '（或股东权益）总计   4,327,906,834.19 3,178,819,914.06    公司负责人：黄敏         '\n",
      "  '主管会计工作负责人：都进利         会计机构负责人：李晓凤            合并利润表    2022 年 1—12 月    '\n",
      "  '编制单位:固德威技术股份有限公司    单位:元  币种:人民币    项目 附注 2022 年度 2021 年度    一、营业总收入  '\n",
      "  '4,710,236,539.05 2,678,113,764.75    其中：营业收入 七、61 4,710,236,539.05 '\n",
      "  '2,678,113,764.75    利息收入       已赚保费       手续费及佣金收入       二、营业总成本  '\n",
      "  '3,983,021,670.44 2,385,164,998.35    其中：营业成本 七、61 3,181,528,931.53 '\n",
      "  '1,830,169,171.82    利息支出       手续费及佣金支出       退保金       赔付支出净额       '\n",
      "  '提取保险责任准备金净额       保单红利支出       分保费用       税金及附加 七、62 12,749,387.85 '\n",
      "  '8,276,603.86    销售费用 七、63 339,223,766.88 210,819,470.59    管理费用 七、64 '\n",
      "  '196,611,455.00 105,894,714.12    研发费用 七、65 347,822,537.83 '\n",
      "  '188,465,218.24         2022 年年度报告     133    项目 附注 2022 年度 2021 年度']\n"
     ]
    }
   ],
   "source": [
    "contexts = get_contexts(retrievalResults)\n",
    "pp.pprint(contexts)"
   ]
  },
  {
   "cell_type": "markdown",
   "metadata": {},
   "source": [
    "### Initiate the user prompt and response via the LLM\n",
    "\n",
    "Here, we are going to format our prompt using the context generated by the retrieve API associated to our KB as well as the user query to get the final response."
   ]
  },
  {
   "cell_type": "code",
   "execution_count": 9,
   "metadata": {
    "tags": []
   },
   "outputs": [],
   "source": [
    "import json\n",
    "prompt = claude_prompt.format(context_str=contexts, \n",
    "                              query_str=query)"
   ]
  },
  {
   "cell_type": "code",
   "execution_count": 10,
   "metadata": {
    "tags": []
   },
   "outputs": [
    {
     "name": "stdout",
     "output_type": "stream",
     "text": [
      " 根据提供的信息,我无法直接看到固德威2023年的营收情况,因为提供的信息只包含了2022年年度报告和2023年半年度报告,没有2023年全年的相关数据。固德威的2023年全年营收情况还需要等待其2023年年度报告公布。所以关于固德威2023营收情况,我无法直接给出答案。\n"
     ]
    }
   ],
   "source": [
    "response = llm(prompt)\n",
    "print(response)"
   ]
  },
  {
   "cell_type": "code",
   "execution_count": null,
   "metadata": {},
   "outputs": [],
   "source": []
  }
 ],
 "metadata": {
  "availableInstances": [
   {
    "_defaultOrder": 0,
    "_isFastLaunch": true,
    "category": "General purpose",
    "gpuNum": 0,
    "hideHardwareSpecs": false,
    "memoryGiB": 4,
    "name": "ml.t3.medium",
    "vcpuNum": 2
   },
   {
    "_defaultOrder": 1,
    "_isFastLaunch": false,
    "category": "General purpose",
    "gpuNum": 0,
    "hideHardwareSpecs": false,
    "memoryGiB": 8,
    "name": "ml.t3.large",
    "vcpuNum": 2
   },
   {
    "_defaultOrder": 2,
    "_isFastLaunch": false,
    "category": "General purpose",
    "gpuNum": 0,
    "hideHardwareSpecs": false,
    "memoryGiB": 16,
    "name": "ml.t3.xlarge",
    "vcpuNum": 4
   },
   {
    "_defaultOrder": 3,
    "_isFastLaunch": false,
    "category": "General purpose",
    "gpuNum": 0,
    "hideHardwareSpecs": false,
    "memoryGiB": 32,
    "name": "ml.t3.2xlarge",
    "vcpuNum": 8
   },
   {
    "_defaultOrder": 4,
    "_isFastLaunch": true,
    "category": "General purpose",
    "gpuNum": 0,
    "hideHardwareSpecs": false,
    "memoryGiB": 8,
    "name": "ml.m5.large",
    "vcpuNum": 2
   },
   {
    "_defaultOrder": 5,
    "_isFastLaunch": false,
    "category": "General purpose",
    "gpuNum": 0,
    "hideHardwareSpecs": false,
    "memoryGiB": 16,
    "name": "ml.m5.xlarge",
    "vcpuNum": 4
   },
   {
    "_defaultOrder": 6,
    "_isFastLaunch": false,
    "category": "General purpose",
    "gpuNum": 0,
    "hideHardwareSpecs": false,
    "memoryGiB": 32,
    "name": "ml.m5.2xlarge",
    "vcpuNum": 8
   },
   {
    "_defaultOrder": 7,
    "_isFastLaunch": false,
    "category": "General purpose",
    "gpuNum": 0,
    "hideHardwareSpecs": false,
    "memoryGiB": 64,
    "name": "ml.m5.4xlarge",
    "vcpuNum": 16
   },
   {
    "_defaultOrder": 8,
    "_isFastLaunch": false,
    "category": "General purpose",
    "gpuNum": 0,
    "hideHardwareSpecs": false,
    "memoryGiB": 128,
    "name": "ml.m5.8xlarge",
    "vcpuNum": 32
   },
   {
    "_defaultOrder": 9,
    "_isFastLaunch": false,
    "category": "General purpose",
    "gpuNum": 0,
    "hideHardwareSpecs": false,
    "memoryGiB": 192,
    "name": "ml.m5.12xlarge",
    "vcpuNum": 48
   },
   {
    "_defaultOrder": 10,
    "_isFastLaunch": false,
    "category": "General purpose",
    "gpuNum": 0,
    "hideHardwareSpecs": false,
    "memoryGiB": 256,
    "name": "ml.m5.16xlarge",
    "vcpuNum": 64
   },
   {
    "_defaultOrder": 11,
    "_isFastLaunch": false,
    "category": "General purpose",
    "gpuNum": 0,
    "hideHardwareSpecs": false,
    "memoryGiB": 384,
    "name": "ml.m5.24xlarge",
    "vcpuNum": 96
   },
   {
    "_defaultOrder": 12,
    "_isFastLaunch": false,
    "category": "General purpose",
    "gpuNum": 0,
    "hideHardwareSpecs": false,
    "memoryGiB": 8,
    "name": "ml.m5d.large",
    "vcpuNum": 2
   },
   {
    "_defaultOrder": 13,
    "_isFastLaunch": false,
    "category": "General purpose",
    "gpuNum": 0,
    "hideHardwareSpecs": false,
    "memoryGiB": 16,
    "name": "ml.m5d.xlarge",
    "vcpuNum": 4
   },
   {
    "_defaultOrder": 14,
    "_isFastLaunch": false,
    "category": "General purpose",
    "gpuNum": 0,
    "hideHardwareSpecs": false,
    "memoryGiB": 32,
    "name": "ml.m5d.2xlarge",
    "vcpuNum": 8
   },
   {
    "_defaultOrder": 15,
    "_isFastLaunch": false,
    "category": "General purpose",
    "gpuNum": 0,
    "hideHardwareSpecs": false,
    "memoryGiB": 64,
    "name": "ml.m5d.4xlarge",
    "vcpuNum": 16
   },
   {
    "_defaultOrder": 16,
    "_isFastLaunch": false,
    "category": "General purpose",
    "gpuNum": 0,
    "hideHardwareSpecs": false,
    "memoryGiB": 128,
    "name": "ml.m5d.8xlarge",
    "vcpuNum": 32
   },
   {
    "_defaultOrder": 17,
    "_isFastLaunch": false,
    "category": "General purpose",
    "gpuNum": 0,
    "hideHardwareSpecs": false,
    "memoryGiB": 192,
    "name": "ml.m5d.12xlarge",
    "vcpuNum": 48
   },
   {
    "_defaultOrder": 18,
    "_isFastLaunch": false,
    "category": "General purpose",
    "gpuNum": 0,
    "hideHardwareSpecs": false,
    "memoryGiB": 256,
    "name": "ml.m5d.16xlarge",
    "vcpuNum": 64
   },
   {
    "_defaultOrder": 19,
    "_isFastLaunch": false,
    "category": "General purpose",
    "gpuNum": 0,
    "hideHardwareSpecs": false,
    "memoryGiB": 384,
    "name": "ml.m5d.24xlarge",
    "vcpuNum": 96
   },
   {
    "_defaultOrder": 20,
    "_isFastLaunch": false,
    "category": "General purpose",
    "gpuNum": 0,
    "hideHardwareSpecs": true,
    "memoryGiB": 0,
    "name": "ml.geospatial.interactive",
    "supportedImageNames": [
     "sagemaker-geospatial-v1-0"
    ],
    "vcpuNum": 0
   },
   {
    "_defaultOrder": 21,
    "_isFastLaunch": true,
    "category": "Compute optimized",
    "gpuNum": 0,
    "hideHardwareSpecs": false,
    "memoryGiB": 4,
    "name": "ml.c5.large",
    "vcpuNum": 2
   },
   {
    "_defaultOrder": 22,
    "_isFastLaunch": false,
    "category": "Compute optimized",
    "gpuNum": 0,
    "hideHardwareSpecs": false,
    "memoryGiB": 8,
    "name": "ml.c5.xlarge",
    "vcpuNum": 4
   },
   {
    "_defaultOrder": 23,
    "_isFastLaunch": false,
    "category": "Compute optimized",
    "gpuNum": 0,
    "hideHardwareSpecs": false,
    "memoryGiB": 16,
    "name": "ml.c5.2xlarge",
    "vcpuNum": 8
   },
   {
    "_defaultOrder": 24,
    "_isFastLaunch": false,
    "category": "Compute optimized",
    "gpuNum": 0,
    "hideHardwareSpecs": false,
    "memoryGiB": 32,
    "name": "ml.c5.4xlarge",
    "vcpuNum": 16
   },
   {
    "_defaultOrder": 25,
    "_isFastLaunch": false,
    "category": "Compute optimized",
    "gpuNum": 0,
    "hideHardwareSpecs": false,
    "memoryGiB": 72,
    "name": "ml.c5.9xlarge",
    "vcpuNum": 36
   },
   {
    "_defaultOrder": 26,
    "_isFastLaunch": false,
    "category": "Compute optimized",
    "gpuNum": 0,
    "hideHardwareSpecs": false,
    "memoryGiB": 96,
    "name": "ml.c5.12xlarge",
    "vcpuNum": 48
   },
   {
    "_defaultOrder": 27,
    "_isFastLaunch": false,
    "category": "Compute optimized",
    "gpuNum": 0,
    "hideHardwareSpecs": false,
    "memoryGiB": 144,
    "name": "ml.c5.18xlarge",
    "vcpuNum": 72
   },
   {
    "_defaultOrder": 28,
    "_isFastLaunch": false,
    "category": "Compute optimized",
    "gpuNum": 0,
    "hideHardwareSpecs": false,
    "memoryGiB": 192,
    "name": "ml.c5.24xlarge",
    "vcpuNum": 96
   },
   {
    "_defaultOrder": 29,
    "_isFastLaunch": true,
    "category": "Accelerated computing",
    "gpuNum": 1,
    "hideHardwareSpecs": false,
    "memoryGiB": 16,
    "name": "ml.g4dn.xlarge",
    "vcpuNum": 4
   },
   {
    "_defaultOrder": 30,
    "_isFastLaunch": false,
    "category": "Accelerated computing",
    "gpuNum": 1,
    "hideHardwareSpecs": false,
    "memoryGiB": 32,
    "name": "ml.g4dn.2xlarge",
    "vcpuNum": 8
   },
   {
    "_defaultOrder": 31,
    "_isFastLaunch": false,
    "category": "Accelerated computing",
    "gpuNum": 1,
    "hideHardwareSpecs": false,
    "memoryGiB": 64,
    "name": "ml.g4dn.4xlarge",
    "vcpuNum": 16
   },
   {
    "_defaultOrder": 32,
    "_isFastLaunch": false,
    "category": "Accelerated computing",
    "gpuNum": 1,
    "hideHardwareSpecs": false,
    "memoryGiB": 128,
    "name": "ml.g4dn.8xlarge",
    "vcpuNum": 32
   },
   {
    "_defaultOrder": 33,
    "_isFastLaunch": false,
    "category": "Accelerated computing",
    "gpuNum": 4,
    "hideHardwareSpecs": false,
    "memoryGiB": 192,
    "name": "ml.g4dn.12xlarge",
    "vcpuNum": 48
   },
   {
    "_defaultOrder": 34,
    "_isFastLaunch": false,
    "category": "Accelerated computing",
    "gpuNum": 1,
    "hideHardwareSpecs": false,
    "memoryGiB": 256,
    "name": "ml.g4dn.16xlarge",
    "vcpuNum": 64
   },
   {
    "_defaultOrder": 35,
    "_isFastLaunch": false,
    "category": "Accelerated computing",
    "gpuNum": 1,
    "hideHardwareSpecs": false,
    "memoryGiB": 61,
    "name": "ml.p3.2xlarge",
    "vcpuNum": 8
   },
   {
    "_defaultOrder": 36,
    "_isFastLaunch": false,
    "category": "Accelerated computing",
    "gpuNum": 4,
    "hideHardwareSpecs": false,
    "memoryGiB": 244,
    "name": "ml.p3.8xlarge",
    "vcpuNum": 32
   },
   {
    "_defaultOrder": 37,
    "_isFastLaunch": false,
    "category": "Accelerated computing",
    "gpuNum": 8,
    "hideHardwareSpecs": false,
    "memoryGiB": 488,
    "name": "ml.p3.16xlarge",
    "vcpuNum": 64
   },
   {
    "_defaultOrder": 38,
    "_isFastLaunch": false,
    "category": "Accelerated computing",
    "gpuNum": 8,
    "hideHardwareSpecs": false,
    "memoryGiB": 768,
    "name": "ml.p3dn.24xlarge",
    "vcpuNum": 96
   },
   {
    "_defaultOrder": 39,
    "_isFastLaunch": false,
    "category": "Memory Optimized",
    "gpuNum": 0,
    "hideHardwareSpecs": false,
    "memoryGiB": 16,
    "name": "ml.r5.large",
    "vcpuNum": 2
   },
   {
    "_defaultOrder": 40,
    "_isFastLaunch": false,
    "category": "Memory Optimized",
    "gpuNum": 0,
    "hideHardwareSpecs": false,
    "memoryGiB": 32,
    "name": "ml.r5.xlarge",
    "vcpuNum": 4
   },
   {
    "_defaultOrder": 41,
    "_isFastLaunch": false,
    "category": "Memory Optimized",
    "gpuNum": 0,
    "hideHardwareSpecs": false,
    "memoryGiB": 64,
    "name": "ml.r5.2xlarge",
    "vcpuNum": 8
   },
   {
    "_defaultOrder": 42,
    "_isFastLaunch": false,
    "category": "Memory Optimized",
    "gpuNum": 0,
    "hideHardwareSpecs": false,
    "memoryGiB": 128,
    "name": "ml.r5.4xlarge",
    "vcpuNum": 16
   },
   {
    "_defaultOrder": 43,
    "_isFastLaunch": false,
    "category": "Memory Optimized",
    "gpuNum": 0,
    "hideHardwareSpecs": false,
    "memoryGiB": 256,
    "name": "ml.r5.8xlarge",
    "vcpuNum": 32
   },
   {
    "_defaultOrder": 44,
    "_isFastLaunch": false,
    "category": "Memory Optimized",
    "gpuNum": 0,
    "hideHardwareSpecs": false,
    "memoryGiB": 384,
    "name": "ml.r5.12xlarge",
    "vcpuNum": 48
   },
   {
    "_defaultOrder": 45,
    "_isFastLaunch": false,
    "category": "Memory Optimized",
    "gpuNum": 0,
    "hideHardwareSpecs": false,
    "memoryGiB": 512,
    "name": "ml.r5.16xlarge",
    "vcpuNum": 64
   },
   {
    "_defaultOrder": 46,
    "_isFastLaunch": false,
    "category": "Memory Optimized",
    "gpuNum": 0,
    "hideHardwareSpecs": false,
    "memoryGiB": 768,
    "name": "ml.r5.24xlarge",
    "vcpuNum": 96
   },
   {
    "_defaultOrder": 47,
    "_isFastLaunch": false,
    "category": "Accelerated computing",
    "gpuNum": 1,
    "hideHardwareSpecs": false,
    "memoryGiB": 16,
    "name": "ml.g5.xlarge",
    "vcpuNum": 4
   },
   {
    "_defaultOrder": 48,
    "_isFastLaunch": false,
    "category": "Accelerated computing",
    "gpuNum": 1,
    "hideHardwareSpecs": false,
    "memoryGiB": 32,
    "name": "ml.g5.2xlarge",
    "vcpuNum": 8
   },
   {
    "_defaultOrder": 49,
    "_isFastLaunch": false,
    "category": "Accelerated computing",
    "gpuNum": 1,
    "hideHardwareSpecs": false,
    "memoryGiB": 64,
    "name": "ml.g5.4xlarge",
    "vcpuNum": 16
   },
   {
    "_defaultOrder": 50,
    "_isFastLaunch": false,
    "category": "Accelerated computing",
    "gpuNum": 1,
    "hideHardwareSpecs": false,
    "memoryGiB": 128,
    "name": "ml.g5.8xlarge",
    "vcpuNum": 32
   },
   {
    "_defaultOrder": 51,
    "_isFastLaunch": false,
    "category": "Accelerated computing",
    "gpuNum": 1,
    "hideHardwareSpecs": false,
    "memoryGiB": 256,
    "name": "ml.g5.16xlarge",
    "vcpuNum": 64
   },
   {
    "_defaultOrder": 52,
    "_isFastLaunch": false,
    "category": "Accelerated computing",
    "gpuNum": 4,
    "hideHardwareSpecs": false,
    "memoryGiB": 192,
    "name": "ml.g5.12xlarge",
    "vcpuNum": 48
   },
   {
    "_defaultOrder": 53,
    "_isFastLaunch": false,
    "category": "Accelerated computing",
    "gpuNum": 4,
    "hideHardwareSpecs": false,
    "memoryGiB": 384,
    "name": "ml.g5.24xlarge",
    "vcpuNum": 96
   },
   {
    "_defaultOrder": 54,
    "_isFastLaunch": false,
    "category": "Accelerated computing",
    "gpuNum": 8,
    "hideHardwareSpecs": false,
    "memoryGiB": 768,
    "name": "ml.g5.48xlarge",
    "vcpuNum": 192
   },
   {
    "_defaultOrder": 55,
    "_isFastLaunch": false,
    "category": "Accelerated computing",
    "gpuNum": 8,
    "hideHardwareSpecs": false,
    "memoryGiB": 1152,
    "name": "ml.p4d.24xlarge",
    "vcpuNum": 96
   },
   {
    "_defaultOrder": 56,
    "_isFastLaunch": false,
    "category": "Accelerated computing",
    "gpuNum": 8,
    "hideHardwareSpecs": false,
    "memoryGiB": 1152,
    "name": "ml.p4de.24xlarge",
    "vcpuNum": 96
   },
   {
    "_defaultOrder": 57,
    "_isFastLaunch": false,
    "category": "Accelerated computing",
    "gpuNum": 0,
    "hideHardwareSpecs": false,
    "memoryGiB": 32,
    "name": "ml.trn1.2xlarge",
    "vcpuNum": 8
   },
   {
    "_defaultOrder": 58,
    "_isFastLaunch": false,
    "category": "Accelerated computing",
    "gpuNum": 0,
    "hideHardwareSpecs": false,
    "memoryGiB": 512,
    "name": "ml.trn1.32xlarge",
    "vcpuNum": 128
   },
   {
    "_defaultOrder": 59,
    "_isFastLaunch": false,
    "category": "Accelerated computing",
    "gpuNum": 0,
    "hideHardwareSpecs": false,
    "memoryGiB": 512,
    "name": "ml.trn1n.32xlarge",
    "vcpuNum": 128
   }
  ],
  "instance_type": "ml.t3.medium",
  "kernelspec": {
   "display_name": "conda_pytorch_p310",
   "language": "python",
   "name": "conda_pytorch_p310"
  },
  "language_info": {
   "codemirror_mode": {
    "name": "ipython",
    "version": 3
   },
   "file_extension": ".py",
   "mimetype": "text/x-python",
   "name": "python",
   "nbconvert_exporter": "python",
   "pygments_lexer": "ipython3",
   "version": "3.10.13"
  }
 },
 "nbformat": 4,
 "nbformat_minor": 4
}
