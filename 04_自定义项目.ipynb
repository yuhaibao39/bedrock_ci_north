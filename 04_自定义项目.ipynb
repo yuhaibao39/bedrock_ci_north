{
 "cells": [
  {
   "cell_type": "markdown",
   "id": "f8e2ff52-d93e-4202-8330-b473533ee6f4",
   "metadata": {
    "tags": []
   },
   "source": [
    "### 现在我们基本了解了bedrock的sdk, knowledge base和langchain集成的接口。现在我们进行一个实践项目"
   ]
  },
  {
   "cell_type": "code",
   "execution_count": null,
   "id": "6888dd79-32de-48b9-8241-f7ddfc973774",
   "metadata": {},
   "outputs": [],
   "source": []
  }
 ],
 "metadata": {
  "kernelspec": {
   "display_name": "conda_pytorch_p310",
   "language": "python",
   "name": "conda_pytorch_p310"
  },
  "language_info": {
   "codemirror_mode": {
    "name": "ipython",
    "version": 3
   },
   "file_extension": ".py",
   "mimetype": "text/x-python",
   "name": "python",
   "nbconvert_exporter": "python",
   "pygments_lexer": "ipython3",
   "version": "3.10.13"
  }
 },
 "nbformat": 4,
 "nbformat_minor": 5
}
